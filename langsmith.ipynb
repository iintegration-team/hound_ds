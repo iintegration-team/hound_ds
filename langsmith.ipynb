{
 "cells": [
  {
   "cell_type": "code",
   "execution_count": 13,
   "metadata": {},
   "outputs": [
    {
     "name": "stdout",
     "output_type": "stream",
     "text": [
      "Collecting langsmithNote: you may need to restart the kernel to use updated packages.\n",
      "\n",
      "  Downloading langsmith-0.2.4-py3-none-any.whl.metadata (14 kB)\n",
      "Requirement already satisfied: httpx<1,>=0.23.0 in c:\\users\\user\\appdata\\local\\programs\\python\\python312\\lib\\site-packages (from langsmith) (0.27.2)\n",
      "Collecting orjson<4.0.0,>=3.9.14 (from langsmith)\n",
      "  Downloading orjson-3.10.12-cp312-none-win_amd64.whl.metadata (42 kB)\n",
      "Requirement already satisfied: pydantic<3.0.0,>=2.7.4 in c:\\users\\user\\appdata\\local\\programs\\python\\python312\\lib\\site-packages (from langsmith) (2.10.4)\n",
      "Requirement already satisfied: requests<3,>=2 in c:\\users\\user\\appdata\\local\\programs\\python\\python312\\lib\\site-packages (from langsmith) (2.32.3)\n",
      "Collecting requests-toolbelt<2.0.0,>=1.0.0 (from langsmith)\n",
      "  Using cached requests_toolbelt-1.0.0-py2.py3-none-any.whl.metadata (14 kB)\n",
      "Requirement already satisfied: anyio in c:\\users\\user\\appdata\\local\\programs\\python\\python312\\lib\\site-packages (from httpx<1,>=0.23.0->langsmith) (4.7.0)\n",
      "Requirement already satisfied: certifi in c:\\users\\user\\appdata\\local\\programs\\python\\python312\\lib\\site-packages (from httpx<1,>=0.23.0->langsmith) (2024.12.14)\n",
      "Requirement already satisfied: httpcore==1.* in c:\\users\\user\\appdata\\local\\programs\\python\\python312\\lib\\site-packages (from httpx<1,>=0.23.0->langsmith) (1.0.7)\n",
      "Requirement already satisfied: idna in c:\\users\\user\\appdata\\local\\programs\\python\\python312\\lib\\site-packages (from httpx<1,>=0.23.0->langsmith) (3.10)\n",
      "Requirement already satisfied: sniffio in c:\\users\\user\\appdata\\local\\programs\\python\\python312\\lib\\site-packages (from httpx<1,>=0.23.0->langsmith) (1.3.1)\n",
      "Requirement already satisfied: h11<0.15,>=0.13 in c:\\users\\user\\appdata\\local\\programs\\python\\python312\\lib\\site-packages (from httpcore==1.*->httpx<1,>=0.23.0->langsmith) (0.14.0)\n",
      "Requirement already satisfied: annotated-types>=0.6.0 in c:\\users\\user\\appdata\\local\\programs\\python\\python312\\lib\\site-packages (from pydantic<3.0.0,>=2.7.4->langsmith) (0.7.0)\n",
      "Requirement already satisfied: pydantic-core==2.27.2 in c:\\users\\user\\appdata\\local\\programs\\python\\python312\\lib\\site-packages (from pydantic<3.0.0,>=2.7.4->langsmith) (2.27.2)\n",
      "Requirement already satisfied: typing-extensions>=4.12.2 in c:\\users\\user\\appdata\\local\\programs\\python\\python312\\lib\\site-packages (from pydantic<3.0.0,>=2.7.4->langsmith) (4.12.2)\n",
      "Requirement already satisfied: charset-normalizer<4,>=2 in c:\\users\\user\\appdata\\local\\programs\\python\\python312\\lib\\site-packages (from requests<3,>=2->langsmith) (3.4.0)\n",
      "Requirement already satisfied: urllib3<3,>=1.21.1 in c:\\users\\user\\appdata\\local\\programs\\python\\python312\\lib\\site-packages (from requests<3,>=2->langsmith) (2.2.3)\n",
      "Downloading langsmith-0.2.4-py3-none-any.whl (320 kB)\n",
      "Downloading orjson-3.10.12-cp312-none-win_amd64.whl (135 kB)\n",
      "Using cached requests_toolbelt-1.0.0-py2.py3-none-any.whl (54 kB)\n",
      "Installing collected packages: orjson, requests-toolbelt, langsmith\n",
      "Successfully installed langsmith-0.2.4 orjson-3.10.12 requests-toolbelt-1.0.0\n"
     ]
    },
    {
     "name": "stderr",
     "output_type": "stream",
     "text": [
      "\n",
      "[notice] A new release of pip is available: 24.2 -> 24.3.1\n",
      "[notice] To update, run: python.exe -m pip install --upgrade pip\n"
     ]
    },
    {
     "name": "stdout",
     "output_type": "stream",
     "text": [
      "Note: you may need to restart the kernel to use updated packages.\n"
     ]
    },
    {
     "name": "stderr",
     "output_type": "stream",
     "text": [
      "\n",
      "[notice] A new release of pip is available: 24.2 -> 24.3.1\n",
      "[notice] To update, run: python.exe -m pip install --upgrade pip\n"
     ]
    },
    {
     "name": "stdout",
     "output_type": "stream",
     "text": [
      "Requirement already satisfied: langchain_gigachat in c:\\users\\user\\appdata\\local\\programs\\python\\python312\\lib\\site-packages (0.3.2)\n",
      "Requirement already satisfied: gigachat<0.2.0,>=0.1.36 in c:\\users\\user\\appdata\\local\\programs\\python\\python312\\lib\\site-packages (from langchain_gigachat) (0.1.36)\n",
      "Requirement already satisfied: langchain-core<0.4,>=0.3 in c:\\users\\user\\appdata\\local\\programs\\python\\python312\\lib\\site-packages (from langchain_gigachat) (0.3.28)\n",
      "Requirement already satisfied: types-requests<3.0,>=2.32 in c:\\users\\user\\appdata\\local\\programs\\python\\python312\\lib\\site-packages (from langchain_gigachat) (2.32.0.20241016)\n",
      "Requirement already satisfied: httpx<1 in c:\\users\\user\\appdata\\local\\programs\\python\\python312\\lib\\site-packages (from gigachat<0.2.0,>=0.1.36->langchain_gigachat) (0.27.2)\n",
      "Requirement already satisfied: pydantic>=1 in c:\\users\\user\\appdata\\local\\programs\\python\\python312\\lib\\site-packages (from gigachat<0.2.0,>=0.1.36->langchain_gigachat) (2.10.4)\n",
      "Requirement already satisfied: PyYAML>=5.3 in c:\\users\\user\\appdata\\local\\programs\\python\\python312\\lib\\site-packages (from langchain-core<0.4,>=0.3->langchain_gigachat) (6.0.2)\n",
      "Requirement already satisfied: jsonpatch<2.0,>=1.33 in c:\\users\\user\\appdata\\local\\programs\\python\\python312\\lib\\site-packages (from langchain-core<0.4,>=0.3->langchain_gigachat) (1.33)\n",
      "Requirement already satisfied: langsmith<0.3,>=0.1.125 in c:\\users\\user\\appdata\\local\\programs\\python\\python312\\lib\\site-packages (from langchain-core<0.4,>=0.3->langchain_gigachat) (0.2.4)\n",
      "Requirement already satisfied: packaging<25,>=23.2 in c:\\users\\user\\appdata\\roaming\\python\\python312\\site-packages (from langchain-core<0.4,>=0.3->langchain_gigachat) (24.2)\n",
      "Requirement already satisfied: tenacity!=8.4.0,<10.0.0,>=8.1.0 in c:\\users\\user\\appdata\\local\\programs\\python\\python312\\lib\\site-packages (from langchain-core<0.4,>=0.3->langchain_gigachat) (9.0.0)\n",
      "Requirement already satisfied: typing-extensions>=4.7 in c:\\users\\user\\appdata\\local\\programs\\python\\python312\\lib\\site-packages (from langchain-core<0.4,>=0.3->langchain_gigachat) (4.12.2)\n",
      "Requirement already satisfied: urllib3>=2 in c:\\users\\user\\appdata\\local\\programs\\python\\python312\\lib\\site-packages (from types-requests<3.0,>=2.32->langchain_gigachat) (2.2.3)\n",
      "Requirement already satisfied: anyio in c:\\users\\user\\appdata\\local\\programs\\python\\python312\\lib\\site-packages (from httpx<1->gigachat<0.2.0,>=0.1.36->langchain_gigachat) (4.7.0)\n",
      "Requirement already satisfied: certifi in c:\\users\\user\\appdata\\local\\programs\\python\\python312\\lib\\site-packages (from httpx<1->gigachat<0.2.0,>=0.1.36->langchain_gigachat) (2024.12.14)\n",
      "Requirement already satisfied: httpcore==1.* in c:\\users\\user\\appdata\\local\\programs\\python\\python312\\lib\\site-packages (from httpx<1->gigachat<0.2.0,>=0.1.36->langchain_gigachat) (1.0.7)\n",
      "Requirement already satisfied: idna in c:\\users\\user\\appdata\\local\\programs\\python\\python312\\lib\\site-packages (from httpx<1->gigachat<0.2.0,>=0.1.36->langchain_gigachat) (3.10)\n",
      "Requirement already satisfied: sniffio in c:\\users\\user\\appdata\\local\\programs\\python\\python312\\lib\\site-packages (from httpx<1->gigachat<0.2.0,>=0.1.36->langchain_gigachat) (1.3.1)\n",
      "Requirement already satisfied: h11<0.15,>=0.13 in c:\\users\\user\\appdata\\local\\programs\\python\\python312\\lib\\site-packages (from httpcore==1.*->httpx<1->gigachat<0.2.0,>=0.1.36->langchain_gigachat) (0.14.0)\n",
      "Requirement already satisfied: jsonpointer>=1.9 in c:\\users\\user\\appdata\\local\\programs\\python\\python312\\lib\\site-packages (from jsonpatch<2.0,>=1.33->langchain-core<0.4,>=0.3->langchain_gigachat) (3.0.0)\n",
      "Requirement already satisfied: orjson<4.0.0,>=3.9.14 in c:\\users\\user\\appdata\\local\\programs\\python\\python312\\lib\\site-packages (from langsmith<0.3,>=0.1.125->langchain-core<0.4,>=0.3->langchain_gigachat) (3.10.12)\n",
      "Requirement already satisfied: requests<3,>=2 in c:\\users\\user\\appdata\\local\\programs\\python\\python312\\lib\\site-packages (from langsmith<0.3,>=0.1.125->langchain-core<0.4,>=0.3->langchain_gigachat) (2.32.3)\n",
      "Requirement already satisfied: requests-toolbelt<2.0.0,>=1.0.0 in c:\\users\\user\\appdata\\local\\programs\\python\\python312\\lib\\site-packages (from langsmith<0.3,>=0.1.125->langchain-core<0.4,>=0.3->langchain_gigachat) (1.0.0)\n",
      "Requirement already satisfied: annotated-types>=0.6.0 in c:\\users\\user\\appdata\\local\\programs\\python\\python312\\lib\\site-packages (from pydantic>=1->gigachat<0.2.0,>=0.1.36->langchain_gigachat) (0.7.0)\n",
      "Requirement already satisfied: pydantic-core==2.27.2 in c:\\users\\user\\appdata\\local\\programs\\python\\python312\\lib\\site-packages (from pydantic>=1->gigachat<0.2.0,>=0.1.36->langchain_gigachat) (2.27.2)\n",
      "Requirement already satisfied: charset-normalizer<4,>=2 in c:\\users\\user\\appdata\\local\\programs\\python\\python312\\lib\\site-packages (from requests<3,>=2->langsmith<0.3,>=0.1.125->langchain-core<0.4,>=0.3->langchain_gigachat) (3.4.0)\n",
      "Note: you may need to restart the kernel to use updated packages.\n"
     ]
    },
    {
     "name": "stderr",
     "output_type": "stream",
     "text": [
      "\n",
      "[notice] A new release of pip is available: 24.2 -> 24.3.1\n",
      "[notice] To update, run: python.exe -m pip install --upgrade pip\n"
     ]
    }
   ],
   "source": [
    "%pip install -U langsmith\n",
    "%pip install --upgrade --quiet  langchain-gigachat\n",
    "%pip install langchain_gigachat"
   ]
  },
  {
   "cell_type": "code",
   "execution_count": 1,
   "metadata": {},
   "outputs": [],
   "source": [
    "#import\n",
    "import os\n",
    "import requests\n",
    "from langsmith import evaluate, Client\n",
    "from langsmith.schemas import Example, Run\n",
    "import json\n",
    "import time"
   ]
  },
  {
   "cell_type": "code",
   "execution_count": 2,
   "metadata": {},
   "outputs": [],
   "source": [
    "\n",
    "os.environ[\"LANGCHAIN_TRACING_V2\"] = 'true'\n",
    "os.environ[\"LANGCHAIN_ENDPOINT\"]=\"https://api.smith.langchain.com\"\n",
    "os.environ[\"LANGCHAIN_API_KEY\"]=\"key\""
   ]
  },
  {
   "attachments": {
    "image_2024-12-23_18-44-11.png": {
     "image/png": "[encoded data removed]"
    }
   },
   "cell_type": "markdown",
   "metadata": {},
   "source": [
    "### Проверка на выдачу ответа в формате JSON для GigaChat\n",
    "Видно, что гигачат не справляется с поставленной задачей\n",
    "![image_2024-12-23_18-44-11.png](attachment:image_2024-12-23_18-44-11.png)"
   ]
  },
  {
   "cell_type": "markdown",
   "metadata": {},
   "source": [
    "## Загрузка датасетов\n",
    " С помощью gpt4 были созданны датасеты для проверки. На их основе оцениваем работу mistral.\n",
    " Преобразуем данные для загрузки в системк"
   ]
  },
  {
   "cell_type": "code",
   "execution_count": null,
   "metadata": {},
   "outputs": [],
   "source": [
    "input_file = 'datasets/full_dataset.json'\n",
    "\n",
    "with open(input_file, 'r',encoding='utf-8') as file:\n",
    "    data = json.load(file)\n",
    "\n",
    "print(type(data))\n",
    "print(data)"
   ]
  },
  {
   "cell_type": "code",
   "execution_count": 11,
   "metadata": {},
   "outputs": [],
   "source": [
    "def json_to_jsonl(json_data, output_file):\n",
    "    with open(output_file, 'w') as f:\n",
    "           for key, value in json_data.items():\n",
    "            good_line = True\n",
    "            # Создаем объект для каждой записи\n",
    "            record = {}\n",
    "            #record['url'] = key\n",
    "            record['question'] = value[\"question\"]\n",
    "            record[\"answer\"] = value[\"answer\"]\n",
    "           # record[\"info_rag\"] = value[\"relevant_batches_texts\"]\n",
    "            for k,v in record.items():\n",
    "                if len(v) == 0:\n",
    "                    good_line = False\n",
    "            if good_line:\n",
    "                # Записываем объект в формате JSONL\n",
    "                f.write(json.dumps(record) + '\\n')"
   ]
  },
  {
   "cell_type": "code",
   "execution_count": 12,
   "metadata": {},
   "outputs": [],
   "source": [
    "json_to_jsonl(data, 'datasets/q_a_texts_url_real.jsonl')"
   ]
  },
  {
   "cell_type": "code",
   "execution_count": 5,
   "metadata": {},
   "outputs": [
    {
     "name": "stdout",
     "output_type": "stream",
     "text": [
      "View the evaluation results for experiment: 'json is-85b2f95f' at:\n",
      "https://smith.langchain.com/o/01cd58a7-eef9-4d4d-8f46-d914573d2088/datasets/8f0ca905-2760-4403-a736-0ef0fe1b8008/compare?selectedSessions=3f1e44ae-e8b5-46bb-bdcd-5eb3759a5c21\n",
      "\n",
      "\n"
     ]
    },
    {
     "name": "stderr",
     "output_type": "stream",
     "text": [
      "1it [00:14, 14.98s/it]"
     ]
    },
    {
     "name": "stdout",
     "output_type": "stream",
     "text": [
      "False\n"
     ]
    },
    {
     "name": "stderr",
     "output_type": "stream",
     "text": [
      "2it [00:29, 14.50s/it]"
     ]
    },
    {
     "name": "stdout",
     "output_type": "stream",
     "text": [
      "False\n"
     ]
    },
    {
     "name": "stderr",
     "output_type": "stream",
     "text": [
      "3it [00:47, 16.35s/it]"
     ]
    },
    {
     "name": "stdout",
     "output_type": "stream",
     "text": [
      "True\n"
     ]
    },
    {
     "name": "stderr",
     "output_type": "stream",
     "text": [
      "4it [00:59, 14.46s/it]"
     ]
    },
    {
     "name": "stdout",
     "output_type": "stream",
     "text": [
      "True\n"
     ]
    },
    {
     "name": "stderr",
     "output_type": "stream",
     "text": [
      "5it [01:15, 15.25s/it]"
     ]
    },
    {
     "name": "stdout",
     "output_type": "stream",
     "text": [
      "True\n"
     ]
    },
    {
     "name": "stderr",
     "output_type": "stream",
     "text": [
      "6it [02:23, 33.01s/it]"
     ]
    },
    {
     "name": "stdout",
     "output_type": "stream",
     "text": [
      "False\n"
     ]
    },
    {
     "name": "stderr",
     "output_type": "stream",
     "text": [
      "7it [02:37, 26.81s/it]"
     ]
    },
    {
     "name": "stdout",
     "output_type": "stream",
     "text": [
      "True\n"
     ]
    },
    {
     "name": "stderr",
     "output_type": "stream",
     "text": [
      "8it [02:51, 22.72s/it]"
     ]
    },
    {
     "name": "stdout",
     "output_type": "stream",
     "text": [
      "True\n"
     ]
    },
    {
     "name": "stderr",
     "output_type": "stream",
     "text": [
      "9it [03:07, 20.55s/it]"
     ]
    },
    {
     "name": "stdout",
     "output_type": "stream",
     "text": [
      "True\n"
     ]
    },
    {
     "name": "stderr",
     "output_type": "stream",
     "text": [
      "10it [03:40, 24.38s/it]"
     ]
    },
    {
     "name": "stdout",
     "output_type": "stream",
     "text": [
      "True\n"
     ]
    },
    {
     "name": "stderr",
     "output_type": "stream",
     "text": [
      "11it [04:01, 23.52s/it]"
     ]
    },
    {
     "name": "stdout",
     "output_type": "stream",
     "text": [
      "True\n"
     ]
    },
    {
     "name": "stderr",
     "output_type": "stream",
     "text": [
      "12it [04:24, 23.39s/it]"
     ]
    },
    {
     "name": "stdout",
     "output_type": "stream",
     "text": [
      "True\n"
     ]
    },
    {
     "name": "stderr",
     "output_type": "stream",
     "text": [
      "13it [04:38, 20.50s/it]"
     ]
    },
    {
     "name": "stdout",
     "output_type": "stream",
     "text": [
      "True\n"
     ]
    },
    {
     "name": "stderr",
     "output_type": "stream",
     "text": [
      "14it [05:02, 21.49s/it]"
     ]
    },
    {
     "name": "stdout",
     "output_type": "stream",
     "text": [
      "False\n"
     ]
    },
    {
     "name": "stderr",
     "output_type": "stream",
     "text": [
      "15it [05:15, 19.03s/it]"
     ]
    },
    {
     "name": "stdout",
     "output_type": "stream",
     "text": [
      "True\n"
     ]
    },
    {
     "name": "stderr",
     "output_type": "stream",
     "text": [
      "16it [05:34, 18.79s/it]"
     ]
    },
    {
     "name": "stdout",
     "output_type": "stream",
     "text": [
      "False\n"
     ]
    },
    {
     "name": "stderr",
     "output_type": "stream",
     "text": [
      "17it [05:46, 16.75s/it]"
     ]
    },
    {
     "name": "stdout",
     "output_type": "stream",
     "text": [
      "True\n"
     ]
    },
    {
     "name": "stderr",
     "output_type": "stream",
     "text": [
      "18it [06:01, 16.50s/it]"
     ]
    },
    {
     "name": "stdout",
     "output_type": "stream",
     "text": [
      "True\n"
     ]
    },
    {
     "name": "stderr",
     "output_type": "stream",
     "text": [
      "19it [06:27, 19.35s/it]"
     ]
    },
    {
     "name": "stdout",
     "output_type": "stream",
     "text": [
      "True\n"
     ]
    },
    {
     "name": "stderr",
     "output_type": "stream",
     "text": [
      "20it [06:53, 21.24s/it]"
     ]
    },
    {
     "name": "stdout",
     "output_type": "stream",
     "text": [
      "True\n"
     ]
    },
    {
     "name": "stderr",
     "output_type": "stream",
     "text": [
      "21it [07:12, 20.47s/it]"
     ]
    },
    {
     "name": "stdout",
     "output_type": "stream",
     "text": [
      "True\n"
     ]
    },
    {
     "name": "stderr",
     "output_type": "stream",
     "text": [
      "22it [07:27, 18.98s/it]"
     ]
    },
    {
     "name": "stdout",
     "output_type": "stream",
     "text": [
      "False\n"
     ]
    },
    {
     "name": "stderr",
     "output_type": "stream",
     "text": [
      "23it [07:42, 17.74s/it]"
     ]
    },
    {
     "name": "stdout",
     "output_type": "stream",
     "text": [
      "True\n"
     ]
    },
    {
     "name": "stderr",
     "output_type": "stream",
     "text": [
      "24it [07:57, 17.02s/it]"
     ]
    },
    {
     "name": "stdout",
     "output_type": "stream",
     "text": [
      "True\n"
     ]
    },
    {
     "name": "stderr",
     "output_type": "stream",
     "text": [
      "25it [08:11, 15.87s/it]"
     ]
    },
    {
     "name": "stdout",
     "output_type": "stream",
     "text": [
      "True\n"
     ]
    },
    {
     "name": "stderr",
     "output_type": "stream",
     "text": [
      "26it [08:26, 15.75s/it]"
     ]
    },
    {
     "name": "stdout",
     "output_type": "stream",
     "text": [
      "True\n"
     ]
    },
    {
     "name": "stderr",
     "output_type": "stream",
     "text": [
      "27it [08:39, 14.79s/it]"
     ]
    },
    {
     "name": "stdout",
     "output_type": "stream",
     "text": [
      "False\n"
     ]
    },
    {
     "name": "stderr",
     "output_type": "stream",
     "text": [
      "28it [08:56, 15.56s/it]"
     ]
    },
    {
     "name": "stdout",
     "output_type": "stream",
     "text": [
      "True\n"
     ]
    },
    {
     "name": "stderr",
     "output_type": "stream",
     "text": [
      "29it [09:09, 14.94s/it]"
     ]
    },
    {
     "name": "stdout",
     "output_type": "stream",
     "text": [
      "True\n"
     ]
    },
    {
     "name": "stderr",
     "output_type": "stream",
     "text": [
      "30it [09:24, 14.94s/it]"
     ]
    },
    {
     "name": "stdout",
     "output_type": "stream",
     "text": [
      "True\n"
     ]
    },
    {
     "name": "stderr",
     "output_type": "stream",
     "text": [
      "31it [09:49, 17.84s/it]"
     ]
    },
    {
     "name": "stdout",
     "output_type": "stream",
     "text": [
      "True\n"
     ]
    },
    {
     "name": "stderr",
     "output_type": "stream",
     "text": [
      "32it [10:05, 17.17s/it]"
     ]
    },
    {
     "name": "stdout",
     "output_type": "stream",
     "text": [
      "False\n"
     ]
    },
    {
     "name": "stderr",
     "output_type": "stream",
     "text": [
      "33it [12:30, 55.70s/it]"
     ]
    },
    {
     "name": "stdout",
     "output_type": "stream",
     "text": [
      "False\n"
     ]
    },
    {
     "name": "stderr",
     "output_type": "stream",
     "text": [
      "34it [12:48, 44.36s/it]"
     ]
    },
    {
     "name": "stdout",
     "output_type": "stream",
     "text": [
      "True\n"
     ]
    },
    {
     "name": "stderr",
     "output_type": "stream",
     "text": [
      "35it [13:20, 40.47s/it]"
     ]
    },
    {
     "name": "stdout",
     "output_type": "stream",
     "text": [
      "False\n"
     ]
    },
    {
     "name": "stderr",
     "output_type": "stream",
     "text": [
      "36it [13:33, 32.42s/it]"
     ]
    },
    {
     "name": "stdout",
     "output_type": "stream",
     "text": [
      "True\n"
     ]
    },
    {
     "name": "stderr",
     "output_type": "stream",
     "text": [
      "37it [13:48, 27.25s/it]"
     ]
    },
    {
     "name": "stdout",
     "output_type": "stream",
     "text": [
      "True\n"
     ]
    },
    {
     "name": "stderr",
     "output_type": "stream",
     "text": [
      "38it [14:10, 25.44s/it]"
     ]
    },
    {
     "name": "stdout",
     "output_type": "stream",
     "text": [
      "True\n"
     ]
    },
    {
     "name": "stderr",
     "output_type": "stream",
     "text": [
      "39it [14:21, 21.38s/it]"
     ]
    },
    {
     "name": "stdout",
     "output_type": "stream",
     "text": [
      "True\n"
     ]
    },
    {
     "name": "stderr",
     "output_type": "stream",
     "text": [
      "40it [14:39, 20.11s/it]"
     ]
    },
    {
     "name": "stdout",
     "output_type": "stream",
     "text": [
      "True\n"
     ]
    },
    {
     "name": "stderr",
     "output_type": "stream",
     "text": [
      "41it [14:55, 18.83s/it]"
     ]
    },
    {
     "name": "stdout",
     "output_type": "stream",
     "text": [
      "False\n"
     ]
    },
    {
     "name": "stderr",
     "output_type": "stream",
     "text": [
      "42it [15:10, 17.76s/it]"
     ]
    },
    {
     "name": "stdout",
     "output_type": "stream",
     "text": [
      "True\n"
     ]
    },
    {
     "name": "stderr",
     "output_type": "stream",
     "text": [
      "43it [15:30, 18.53s/it]"
     ]
    },
    {
     "name": "stdout",
     "output_type": "stream",
     "text": [
      "False\n"
     ]
    },
    {
     "name": "stderr",
     "output_type": "stream",
     "text": [
      "44it [15:56, 20.61s/it]"
     ]
    },
    {
     "name": "stdout",
     "output_type": "stream",
     "text": [
      "True\n"
     ]
    },
    {
     "name": "stderr",
     "output_type": "stream",
     "text": [
      "45it [16:21, 22.09s/it]"
     ]
    },
    {
     "name": "stdout",
     "output_type": "stream",
     "text": [
      "True\n"
     ]
    },
    {
     "name": "stderr",
     "output_type": "stream",
     "text": [
      "46it [16:32, 18.73s/it]"
     ]
    },
    {
     "name": "stdout",
     "output_type": "stream",
     "text": [
      "True\n"
     ]
    },
    {
     "name": "stderr",
     "output_type": "stream",
     "text": [
      "47it [16:44, 16.76s/it]"
     ]
    },
    {
     "name": "stdout",
     "output_type": "stream",
     "text": [
      "True\n"
     ]
    },
    {
     "name": "stderr",
     "output_type": "stream",
     "text": [
      "48it [17:03, 17.24s/it]"
     ]
    },
    {
     "name": "stdout",
     "output_type": "stream",
     "text": [
      "True\n"
     ]
    },
    {
     "name": "stderr",
     "output_type": "stream",
     "text": [
      "49it [17:38, 22.85s/it]"
     ]
    },
    {
     "name": "stdout",
     "output_type": "stream",
     "text": [
      "True\n"
     ]
    },
    {
     "name": "stderr",
     "output_type": "stream",
     "text": [
      "50it [17:52, 20.09s/it]"
     ]
    },
    {
     "name": "stdout",
     "output_type": "stream",
     "text": [
      "True\n"
     ]
    },
    {
     "name": "stderr",
     "output_type": "stream",
     "text": [
      "51it [18:25, 24.00s/it]"
     ]
    },
    {
     "name": "stdout",
     "output_type": "stream",
     "text": [
      "True\n"
     ]
    },
    {
     "name": "stderr",
     "output_type": "stream",
     "text": [
      "52it [18:52, 24.85s/it]"
     ]
    },
    {
     "name": "stdout",
     "output_type": "stream",
     "text": [
      "True\n"
     ]
    },
    {
     "name": "stderr",
     "output_type": "stream",
     "text": [
      "53it [19:09, 22.37s/it]"
     ]
    },
    {
     "name": "stdout",
     "output_type": "stream",
     "text": [
      "True\n"
     ]
    },
    {
     "name": "stderr",
     "output_type": "stream",
     "text": [
      "54it [19:22, 19.54s/it]"
     ]
    },
    {
     "name": "stdout",
     "output_type": "stream",
     "text": [
      "True\n"
     ]
    },
    {
     "name": "stderr",
     "output_type": "stream",
     "text": [
      "55it [19:36, 17.98s/it]"
     ]
    },
    {
     "name": "stdout",
     "output_type": "stream",
     "text": [
      "True\n"
     ]
    },
    {
     "name": "stderr",
     "output_type": "stream",
     "text": [
      "56it [20:08, 22.07s/it]"
     ]
    },
    {
     "name": "stdout",
     "output_type": "stream",
     "text": [
      "False\n"
     ]
    },
    {
     "name": "stderr",
     "output_type": "stream",
     "text": [
      "57it [20:20, 19.31s/it]"
     ]
    },
    {
     "name": "stdout",
     "output_type": "stream",
     "text": [
      "True\n"
     ]
    },
    {
     "name": "stderr",
     "output_type": "stream",
     "text": [
      "58it [20:33, 17.32s/it]"
     ]
    },
    {
     "name": "stdout",
     "output_type": "stream",
     "text": [
      "True\n"
     ]
    },
    {
     "name": "stderr",
     "output_type": "stream",
     "text": [
      "59it [20:48, 16.69s/it]"
     ]
    },
    {
     "name": "stdout",
     "output_type": "stream",
     "text": [
      "False\n"
     ]
    },
    {
     "name": "stderr",
     "output_type": "stream",
     "text": [
      "59it [20:49, 21.17s/it]\n"
     ]
    },
    {
     "data": {
      "text/html": [
       "<div>\n",
       "<style scoped>\n",
       "    .dataframe tbody tr th:only-of-type {\n",
       "        vertical-align: middle;\n",
       "    }\n",
       "\n",
       "    .dataframe tbody tr th {\n",
       "        vertical-align: top;\n",
       "    }\n",
       "\n",
       "    .dataframe thead th {\n",
       "        text-align: right;\n",
       "    }\n",
       "</style>\n",
       "<table border=\"1\" class=\"dataframe\">\n",
       "  <thead>\n",
       "    <tr style=\"text-align: right;\">\n",
       "      <th></th>\n",
       "      <th>inputs.url</th>\n",
       "      <th>inputs.question</th>\n",
       "      <th>inputs.info_rag/0</th>\n",
       "      <th>inputs.info_rag/1</th>\n",
       "      <th>inputs.info_rag/2</th>\n",
       "      <th>inputs.info_rag/3</th>\n",
       "      <th>inputs.info_rag/4</th>\n",
       "      <th>outputs.output</th>\n",
       "      <th>error</th>\n",
       "      <th>reference.answer/0</th>\n",
       "      <th>reference.question</th>\n",
       "      <th>feedback.is_json</th>\n",
       "      <th>feedback.is_rigth_ans_with_batch</th>\n",
       "      <th>execution_time</th>\n",
       "      <th>example_id</th>\n",
       "      <th>id</th>\n",
       "    </tr>\n",
       "  </thead>\n",
       "  <tbody>\n",
       "    <tr>\n",
       "      <th>0</th>\n",
       "      <td>https://developer.mozilla.org/en-US/docs/Web/C...</td>\n",
       "      <td>What are the non-standard CSS properties prefi...</td>\n",
       "      <td>Non-standard Deprecated -moz-force-broken-imag...</td>\n",
       "      <td></td>\n",
       "      <td></td>\n",
       "      <td></td>\n",
       "      <td></td>\n",
       "      <td>{\\n    \"Answer\": \"The non-standard CSS propert...</td>\n",
       "      <td>None</td>\n",
       "      <td>The non-standard CSS properties with the '-moz...</td>\n",
       "      <td>What are the non-standard CSS properties prefi...</td>\n",
       "      <td>True</td>\n",
       "      <td>False</td>\n",
       "      <td>10.110669</td>\n",
       "      <td>065593b3-30f5-47bb-b48d-36580fe44afa</td>\n",
       "      <td>c4131eac-bfd3-4a19-aa7c-fabb5baf0468</td>\n",
       "    </tr>\n",
       "    <tr>\n",
       "      <th>1</th>\n",
       "      <td>https://www.amalgama-lab.com/songs/v/vanotek/s...</td>\n",
       "      <td>Какова основная тема и смысл песни 'Someone' и...</td>\n",
       "      <td>The ↓ Vance Joy ↓ VIDEOCLUB ↓ Vanessa Paradis ...</td>\n",
       "      <td>когда закрываю глаза Tell me that you really w...</td>\n",
       "      <td>Здесь, в моих любящих руках? Tell me that you ...</td>\n",
       "      <td></td>\n",
       "      <td></td>\n",
       "      <td>{\\n    \"Answer\": \"Основная тема и смысл песни ...</td>\n",
       "      <td>None</td>\n",
       "      <td>Основная тема и смысл песни 'Someone' исполнит...</td>\n",
       "      <td>Какова основная тема и смысл песни 'Someone' и...</td>\n",
       "      <td>True</td>\n",
       "      <td>False</td>\n",
       "      <td>9.380300</td>\n",
       "      <td>0810f3dd-5a94-45dc-b0b4-2127f9931d0f</td>\n",
       "      <td>7c14d73e-a4f8-4ae9-a1b6-596971040b6e</td>\n",
       "    </tr>\n",
       "    <tr>\n",
       "      <th>2</th>\n",
       "      <td>https://www.history.com/topics/american-revolu...</td>\n",
       "      <td>What role did France play in the American Revo...</td>\n",
       "      <td>Skip to contentShowsThis Day In HistorySchedul...</td>\n",
       "      <td>which had begun as a civil conflict between Br...</td>\n",
       "      <td></td>\n",
       "      <td></td>\n",
       "      <td></td>\n",
       "      <td>{\\n    \"Answer\": \"France played a significant ...</td>\n",
       "      <td>None</td>\n",
       "      <td>France played a significant role in the Americ...</td>\n",
       "      <td>What role did France play in the American Revo...</td>\n",
       "      <td>True</td>\n",
       "      <td>True</td>\n",
       "      <td>13.690040</td>\n",
       "      <td>083fadeb-4031-4a0b-a626-052081899989</td>\n",
       "      <td>1a062b7e-7309-47d5-b21d-80cf07521d63</td>\n",
       "    </tr>\n",
       "    <tr>\n",
       "      <th>3</th>\n",
       "      <td>https://biodiversitylibrary.org/page/4383768</td>\n",
       "      <td>¿Cuál es el año de publicación del volumen 49,...</td>\n",
       "      <td>BHL works best with JavaScript enabled Biodive...</td>\n",
       "      <td>Page 1139 (Illustration) Fig 99, Page 1140 (Il...</td>\n",
       "      <td></td>\n",
       "      <td></td>\n",
       "      <td></td>\n",
       "      <td>{\\n    \"Answer\": \"El año de publicación del vo...</td>\n",
       "      <td>None</td>\n",
       "      <td>El año de publicación del volumen 49, número 1...</td>\n",
       "      <td>¿Cuál es el año de publicación del volumen 49,...</td>\n",
       "      <td>True</td>\n",
       "      <td>True</td>\n",
       "      <td>6.740019</td>\n",
       "      <td>0a548549-45af-414b-9738-34f4d9268e29</td>\n",
       "      <td>e1175e38-72e6-4a68-b1c4-52f8ed0d026f</td>\n",
       "    </tr>\n",
       "    <tr>\n",
       "      <th>4</th>\n",
       "      <td>https://ya.ru/neurum/c/nauka-i-obrazovanie/q/m...</td>\n",
       "      <td>Что такое мезоны в контексте элементарных частиц?</td>\n",
       "      <td>Примеры ответов Нейро на вопросы из разных сфе...</td>\n",
       "      <td></td>\n",
       "      <td></td>\n",
       "      <td></td>\n",
       "      <td></td>\n",
       "      <td>{\\n    \"Answer\": \"Мезоны — это элементарные ча...</td>\n",
       "      <td>None</td>\n",
       "      <td>Мезоны в контексте элементарных частиц — это с...</td>\n",
       "      <td>Что такое мезоны в контексте элементарных частиц?</td>\n",
       "      <td>True</td>\n",
       "      <td>True</td>\n",
       "      <td>11.788591</td>\n",
       "      <td>1203f35f-617e-4078-9cfc-5248b2a0c4bb</td>\n",
       "      <td>59b2d948-1755-4f23-8c40-25f48a4b8cff</td>\n",
       "    </tr>\n",
       "    <tr>\n",
       "      <th>5</th>\n",
       "      <td>https://mebel-v-dolgoprudnom.ru/</td>\n",
       "      <td>Какие условия доставки мебели предлагает интер...</td>\n",
       "      <td>Поздравляем вас! В нашем каталоге вы найдете с...</td>\n",
       "      <td>по которым стоит выбрать нас: ✔️ Большой ассор...</td>\n",
       "      <td>Мы готовы вам помочь! При формировании заказа ...</td>\n",
       "      <td></td>\n",
       "      <td></td>\n",
       "      <td>{\\n    \"Answer\": \"Интернет-магазин в Долгопруд...</td>\n",
       "      <td>None</td>\n",
       "      <td>Интернет-магазин в Долгопрудном предлагает дос...</td>\n",
       "      <td>Какие условия доставки мебели предлагает интер...</td>\n",
       "      <td>True</td>\n",
       "      <td>False</td>\n",
       "      <td>62.577260</td>\n",
       "      <td>135eae63-323d-4247-8e66-842b8ba2f4b2</td>\n",
       "      <td>497d4441-e2e1-4e54-831e-db439256d0f8</td>\n",
       "    </tr>\n",
       "    <tr>\n",
       "      <th>6</th>\n",
       "      <td>https://ru.wiktionary.org/wiki/алгоритм</td>\n",
       "      <td>Каково значение слова 'алгоритм' и его морфоло...</td>\n",
       "      <td>Перейти к содержанию Главное меню Главное меню...</td>\n",
       "      <td>неодушевлённое, мужской род, 2-е склонение (ти...</td>\n",
       "      <td></td>\n",
       "      <td></td>\n",
       "      <td></td>\n",
       "      <td>{\\n    \"Answer\": \"Значение слова 'алгоритм' — ...</td>\n",
       "      <td>None</td>\n",
       "      <td>'Алгоритм' - это точный набор инструкций, опис...</td>\n",
       "      <td>Каково значение слова 'алгоритм' и его морфоло...</td>\n",
       "      <td>True</td>\n",
       "      <td>True</td>\n",
       "      <td>9.206538</td>\n",
       "      <td>2238b6d9-295c-4cfa-b29e-9d4fb32c4bc3</td>\n",
       "      <td>0d897e7f-b382-40a8-a640-fbbbd44b4958</td>\n",
       "    </tr>\n",
       "    <tr>\n",
       "      <th>7</th>\n",
       "      <td>https://www.who.int/news-room/fact-sheets/deta...</td>\n",
       "      <td>What initiatives has WHO launched to improve d...</td>\n",
       "      <td>Skip to main content Global Regions WHO Region...</td>\n",
       "      <td>the probability of dying from any one of the f...</td>\n",
       "      <td>people with diabetes often need medications to...</td>\n",
       "      <td></td>\n",
       "      <td></td>\n",
       "      <td>{\\n    \"Answer\": \"WHO has launched several ini...</td>\n",
       "      <td>None</td>\n",
       "      <td>The WHO has launched the Global Diabetes Compa...</td>\n",
       "      <td>What initiatives has WHO launched to improve d...</td>\n",
       "      <td>True</td>\n",
       "      <td>True</td>\n",
       "      <td>9.123076</td>\n",
       "      <td>281d48ac-5a3a-4a14-8d6c-e3f8f4dbe3e3</td>\n",
       "      <td>097886ae-02a0-40ee-a3c4-34d353f9d987</td>\n",
       "    </tr>\n",
       "    <tr>\n",
       "      <th>8</th>\n",
       "      <td>https://www.techinsider.ru/vehicles/1668245-ne...</td>\n",
       "      <td>Что происходит с автомобилем при длительной ез...</td>\n",
       "      <td>vk 373 поиск Новости НаукаОружиеТехнологииАвто...</td>\n",
       "      <td>и быстрее изнашиваются По неподтвержденной инф...</td>\n",
       "      <td></td>\n",
       "      <td></td>\n",
       "      <td></td>\n",
       "      <td>{\\n    \"Answer\": \"При длительной езде на задне...</td>\n",
       "      <td>None</td>\n",
       "      <td>Длительная езда на заднем ходу может быть опас...</td>\n",
       "      <td>Что происходит с автомобилем при длительной ез...</td>\n",
       "      <td>True</td>\n",
       "      <td>True</td>\n",
       "      <td>10.911270</td>\n",
       "      <td>290a4220-8e7e-46c4-8dfa-93249178d9e7</td>\n",
       "      <td>b7dc7579-5d7f-4814-ab23-f1d605800e2c</td>\n",
       "    </tr>\n",
       "    <tr>\n",
       "      <th>9</th>\n",
       "      <td>https://ru.wikipedia.org/wiki/Квантовая_гравит...</td>\n",
       "      <td>Каковы основные проблемы и подходы к созданию ...</td>\n",
       "      <td>целью которого является квантовое описание гра...</td>\n",
       "      <td>что гравитационная постоянная является размерн...</td>\n",
       "      <td>так что на малых масштабах времени и длины они...</td>\n",
       "      <td></td>\n",
       "      <td></td>\n",
       "      <td>```json\\n{\\n    \"Answer\": \"Основные проблемы с...</td>\n",
       "      <td>None</td>\n",
       "      <td>Основные проблемы при создании квантовой грави...</td>\n",
       "      <td>Каковы основные проблемы и подходы к созданию ...</td>\n",
       "      <td>False</td>\n",
       "      <td>True</td>\n",
       "      <td>27.373247</td>\n",
       "      <td>2e0dd152-b2e6-4220-8e9a-ec320db0b8aa</td>\n",
       "      <td>f39248a9-9cd7-4dcc-89b7-6f03cef764b5</td>\n",
       "    </tr>\n",
       "    <tr>\n",
       "      <th>10</th>\n",
       "      <td>https://stackoverflow.com/questions/24816237/i...</td>\n",
       "      <td>How can you programmatically clear the output ...</td>\n",
       "      <td>Skip to main content Stack Overflow About Prod...</td>\n",
       "      <td>– Unni Commented Mar 28, 2017 at 20:52 69 Usin...</td>\n",
       "      <td></td>\n",
       "      <td></td>\n",
       "      <td></td>\n",
       "      <td>{\\n    \"Answer\": \"To programmatically clear th...</td>\n",
       "      <td>None</td>\n",
       "      <td>To programmatically clear the output of a Jupy...</td>\n",
       "      <td>How can you programmatically clear the output ...</td>\n",
       "      <td>False</td>\n",
       "      <td>True</td>\n",
       "      <td>16.257076</td>\n",
       "      <td>30199275-1a91-42d5-b243-f3add56e9eca</td>\n",
       "      <td>15ef332e-4e53-4f09-b20f-0b9d8e2804b5</td>\n",
       "    </tr>\n",
       "    <tr>\n",
       "      <th>11</th>\n",
       "      <td>https://arxiv.org/abs/2202.03052</td>\n",
       "      <td>What is the OFA framework and what are its key...</td>\n",
       "      <td>Skip to main content We gratefully acknowledge...</td>\n",
       "      <td></td>\n",
       "      <td></td>\n",
       "      <td></td>\n",
       "      <td></td>\n",
       "      <td>{\\n                        \"Answer\": \"The OFA ...</td>\n",
       "      <td>None</td>\n",
       "      <td>The OFA framework, as described in the article...</td>\n",
       "      <td>What is the OFA framework and what are its key...</td>\n",
       "      <td>True</td>\n",
       "      <td>True</td>\n",
       "      <td>18.178393</td>\n",
       "      <td>34773032-36d3-4280-94ec-28cc47e9cbf8</td>\n",
       "      <td>53fb285b-0175-4af8-8b9d-54e8b44138ae</td>\n",
       "    </tr>\n",
       "    <tr>\n",
       "      <th>12</th>\n",
       "      <td>https://arxiv.org/abs/1604.02480</td>\n",
       "      <td>What is the purpose of Refined TypeScript (RSC...</td>\n",
       "      <td>Skip to main content We gratefully acknowledge...</td>\n",
       "      <td></td>\n",
       "      <td></td>\n",
       "      <td></td>\n",
       "      <td></td>\n",
       "      <td>{\\n    \"Answer\": \"The purpose of Refined TypeS...</td>\n",
       "      <td>None</td>\n",
       "      <td>The purpose of Refined TypeScript (RSC), as pr...</td>\n",
       "      <td>What is the purpose of Refined TypeScript (RSC...</td>\n",
       "      <td>True</td>\n",
       "      <td>True</td>\n",
       "      <td>8.593522</td>\n",
       "      <td>3c417515-9426-4b52-82ba-5a475d592a52</td>\n",
       "      <td>20cdf7e4-d6ec-4ff6-99bc-57be73c0ced5</td>\n",
       "    </tr>\n",
       "    <tr>\n",
       "      <th>13</th>\n",
       "      <td>https://www.airwar.ru/enc/bww2/k12.html</td>\n",
       "      <td>Каковы были основные недостатки и предложения ...</td>\n",
       "      <td>чем принятый для аэродинамического расчета (42...</td>\n",
       "      <td>хотя при данной схеме самолета это необходимо ...</td>\n",
       "      <td>сделанный в отчете от 29 октября 1933 г: \"Прое...</td>\n",
       "      <td>и летчик Борисов впервые поднял его в небо Пол...</td>\n",
       "      <td>воздушный бой, испытание вооружения, динамичес...</td>\n",
       "      <td>{\\n  \"Answer\": \"Основные недостатки и предложе...</td>\n",
       "      <td>None</td>\n",
       "      <td>Основные недостатки самолета ВС-2 с двигателем...</td>\n",
       "      <td>Каковы были основные недостатки и предложения ...</td>\n",
       "      <td>True</td>\n",
       "      <td>False</td>\n",
       "      <td>17.778127</td>\n",
       "      <td>3cf3c776-4494-411a-b585-e194869c37a4</td>\n",
       "      <td>ae7c01fa-9002-46c0-8231-775451bb731d</td>\n",
       "    </tr>\n",
       "    <tr>\n",
       "      <th>14</th>\n",
       "      <td>https://brestprog.by/topics/containers/</td>\n",
       "      <td>Какова асимптотическая сложность операций с ис...</td>\n",
       "      <td>brestprog Список темРезультаты олимпиад Контей...</td>\n",
       "      <td></td>\n",
       "      <td></td>\n",
       "      <td></td>\n",
       "      <td></td>\n",
       "      <td>{\\n    \"Answer\": \"Асимптотическая сложность оп...</td>\n",
       "      <td>None</td>\n",
       "      <td>Асимптотическая сложность операций с использов...</td>\n",
       "      <td>Какова асимптотическая сложность операций с ис...</td>\n",
       "      <td>False</td>\n",
       "      <td>True</td>\n",
       "      <td>8.069214</td>\n",
       "      <td>439a0ea9-24fa-44de-b554-8b199daa1ffe</td>\n",
       "      <td>add78b1f-cd06-4d41-8960-386795517019</td>\n",
       "    </tr>\n",
       "    <tr>\n",
       "      <th>15</th>\n",
       "      <td>https://subnautica.fandom.com/ru/wiki/%D0%97%D...</td>\n",
       "      <td>Какая фауна и флора обитают в Зоне клубнекусто...</td>\n",
       "      <td>Subnautica викиПравила вики | Ссылка Свежие пр...</td>\n",
       "      <td>В регионе обнаружена вулканическая активность,...</td>\n",
       "      <td>расположенная под Зоной клубнекустов Всего ест...</td>\n",
       "      <td></td>\n",
       "      <td></td>\n",
       "      <td>{\\n    \"Answer\": \"В Зоне клубнекустов в игре S...</td>\n",
       "      <td>None</td>\n",
       "      <td>В Зоне клубнекустов в игре Subnautica обитают ...</td>\n",
       "      <td>Какая фауна и флора обитают в Зоне клубнекусто...</td>\n",
       "      <td>True</td>\n",
       "      <td>False</td>\n",
       "      <td>12.926950</td>\n",
       "      <td>4781800c-5fb8-44e7-8871-7aa397244bae</td>\n",
       "      <td>0031e93c-a7d5-4fbe-8eba-3a18280b55f3</td>\n",
       "    </tr>\n",
       "    <tr>\n",
       "      <th>16</th>\n",
       "      <td>https://learn.microsoft.com/en-us/windows/what...</td>\n",
       "      <td>Quelles sont les nouvelles fonctionnalités de ...</td>\n",
       "      <td>Skip to main content This browser is no longer...</td>\n",
       "      <td></td>\n",
       "      <td></td>\n",
       "      <td></td>\n",
       "      <td></td>\n",
       "      <td>{\\n    \"Answer\": \"Les informations fournies ne...</td>\n",
       "      <td>None</td>\n",
       "      <td>Le contexte fourni mentionne simplement qu'il ...</td>\n",
       "      <td>Quelles sont les nouvelles fonctionnalités de ...</td>\n",
       "      <td>True</td>\n",
       "      <td>True</td>\n",
       "      <td>6.518899</td>\n",
       "      <td>567fe87c-c838-4239-8ce1-50144c2c573d</td>\n",
       "      <td>fb0cc50a-3ef5-4288-8c51-27cefb9d0b46</td>\n",
       "    </tr>\n",
       "    <tr>\n",
       "      <th>17</th>\n",
       "      <td>https://ru.wikipedia.org/wiki/107-%D0%BC%D0%BC...</td>\n",
       "      <td>Какие характеристики и боеприпасы у 107-мм без...</td>\n",
       "      <td>107-мм безоткатное орудие Б-11 Материал из Вик...</td>\n",
       "      <td>исправив и дополнив его ТТХ[править | править ...</td>\n",
       "      <td></td>\n",
       "      <td></td>\n",
       "      <td></td>\n",
       "      <td>{\\n    \"Answer\": \"107-мм безоткатное орудие Б-...</td>\n",
       "      <td>None</td>\n",
       "      <td>Характеристики 107-мм безоткатного орудия Б-11...</td>\n",
       "      <td>Какие характеристики и боеприпасы у 107-мм без...</td>\n",
       "      <td>True</td>\n",
       "      <td>True</td>\n",
       "      <td>10.675083</td>\n",
       "      <td>58bdc206-d588-4491-b961-22e2ae20f9cf</td>\n",
       "      <td>d31daa24-f820-4222-a1ab-d3858f37234f</td>\n",
       "    </tr>\n",
       "    <tr>\n",
       "      <th>18</th>\n",
       "      <td>https://www.sputnik8.com/ru/paris/sights/plosc...</td>\n",
       "      <td>Каково историческое значение площади Бастилии ...</td>\n",
       "      <td>Вход Регистрация Помощь Часто задаваемые вопро...</td>\n",
       "      <td>но через пару лет её убрали, так и не сделав б...</td>\n",
       "      <td></td>\n",
       "      <td></td>\n",
       "      <td></td>\n",
       "      <td>{\\n    \"Answer\": \"Площадь Бастилии является зн...</td>\n",
       "      <td>None</td>\n",
       "      <td>Площадь Бастилии в Париже является знаковым ме...</td>\n",
       "      <td>Каково историческое значение площади Бастилии ...</td>\n",
       "      <td>True</td>\n",
       "      <td>True</td>\n",
       "      <td>20.519123</td>\n",
       "      <td>6348ba64-a195-43bd-98ea-cf3d6a2bb3fa</td>\n",
       "      <td>e1d32371-9acb-4928-b903-506a32b04cf3</td>\n",
       "    </tr>\n",
       "    <tr>\n",
       "      <th>19</th>\n",
       "      <td>https://en.wikipedia.org/wiki/Discovery_of_che...</td>\n",
       "      <td>What were the circumstances leading to the dis...</td>\n",
       "      <td>but the claim was rejected after Hippolyte Vic...</td>\n",
       "      <td>a student of Berzelius, discovered the alkali ...</td>\n",
       "      <td></td>\n",
       "      <td></td>\n",
       "      <td></td>\n",
       "      <td>{\\n    \"Answer\": \"The discovery of niobium inv...</td>\n",
       "      <td>None</td>\n",
       "      <td>Niobium was first discovered in 1801 by Charle...</td>\n",
       "      <td>What were the circumstances leading to the dis...</td>\n",
       "      <td>True</td>\n",
       "      <td>True</td>\n",
       "      <td>20.420107</td>\n",
       "      <td>6de7a6a3-dccd-4403-89d8-affaa45be057</td>\n",
       "      <td>3945c411-9043-4c1a-89a0-60b5fd9d4bbb</td>\n",
       "    </tr>\n",
       "    <tr>\n",
       "      <th>20</th>\n",
       "      <td>https://ox.ac.uk/admissions/undergraduate/cour...</td>\n",
       "      <td>What undergraduate courses are available at Ox...</td>\n",
       "      <td>Skip to main content Home Home AdmissionsUnder...</td>\n",
       "      <td></td>\n",
       "      <td></td>\n",
       "      <td></td>\n",
       "      <td></td>\n",
       "      <td>{\\n    \"Answer\": \"Oxford University offers a w...</td>\n",
       "      <td>None</td>\n",
       "      <td>The University of Oxford offers the following ...</td>\n",
       "      <td>What undergraduate courses are available at Ox...</td>\n",
       "      <td>True</td>\n",
       "      <td>True</td>\n",
       "      <td>13.470905</td>\n",
       "      <td>71351d82-9610-46e7-aa80-776c6eb0b7d8</td>\n",
       "      <td>5caa651f-a458-4902-85da-ff2e971827f8</td>\n",
       "    </tr>\n",
       "    <tr>\n",
       "      <th>21</th>\n",
       "      <td>https://www.who.int/news-room/fact-sheets/deta...</td>\n",
       "      <td>What are the patterns of depressive episodes a...</td>\n",
       "      <td>Skip to main content Global Regions WHO Region...</td>\n",
       "      <td>including in the community and at home, work a...</td>\n",
       "      <td></td>\n",
       "      <td></td>\n",
       "      <td></td>\n",
       "      <td>{\\n    \"Answer\": \"There are different patterns...</td>\n",
       "      <td>None</td>\n",
       "      <td>The patterns of depressive episodes include si...</td>\n",
       "      <td>What are the patterns of depressive episodes a...</td>\n",
       "      <td>True</td>\n",
       "      <td>False</td>\n",
       "      <td>10.210082</td>\n",
       "      <td>7aa5157c-517a-4a9a-bcdf-fc3e2f58cb5d</td>\n",
       "      <td>f262088d-eb58-4524-ab26-a1f88aec189e</td>\n",
       "    </tr>\n",
       "    <tr>\n",
       "      <th>22</th>\n",
       "      <td>https://old.bigenc.ru/biology/text/2107660</td>\n",
       "      <td>Какие химические компоненты составляют клеточн...</td>\n",
       "      <td>2 – ломентария (Lomentaria articulata); 3 – ро...</td>\n",
       "      <td>не собраны в ламеллы, рав­но­уда­лён­ные Все К...</td>\n",
       "      <td></td>\n",
       "      <td></td>\n",
       "      <td></td>\n",
       "      <td>{\\n                        \"Answer\": \"Клеточны...</td>\n",
       "      <td>None</td>\n",
       "      <td>Клеточные стенки красных водорослей состоят из...</td>\n",
       "      <td>Какие химические компоненты составляют клеточн...</td>\n",
       "      <td>True</td>\n",
       "      <td>True</td>\n",
       "      <td>9.665383</td>\n",
       "      <td>7b27184e-542e-4b9c-b0bc-b2a6c9166bb0</td>\n",
       "      <td>927b55ec-f046-4b6e-9cbf-681f56de11c2</td>\n",
       "    </tr>\n",
       "    <tr>\n",
       "      <th>23</th>\n",
       "      <td>https://pubmed.ncbi.nlm.nih.gov/28556748/</td>\n",
       "      <td>What are the main findings and methodologies u...</td>\n",
       "      <td>Norway 4 Faculty of Health Science, Buskerud a...</td>\n",
       "      <td>150:109589 doi: 101016/jyebeh2023109589 Epub 2...</td>\n",
       "      <td></td>\n",
       "      <td></td>\n",
       "      <td></td>\n",
       "      <td>{\\n    \"Answer\": \"The main findings of the stu...</td>\n",
       "      <td>None</td>\n",
       "      <td>The main findings of the study on metaphorical...</td>\n",
       "      <td>What are the main findings and methodologies u...</td>\n",
       "      <td>True</td>\n",
       "      <td>True</td>\n",
       "      <td>9.815799</td>\n",
       "      <td>7c66558c-1838-4a13-8804-03278b298fe8</td>\n",
       "      <td>355975b4-8200-43bc-826f-3d4b1daaef6c</td>\n",
       "    </tr>\n",
       "    <tr>\n",
       "      <th>24</th>\n",
       "      <td>https://learn.microsoft.com/en-us/dotnet/cshar...</td>\n",
       "      <td>What programming concepts in the C# language a...</td>\n",
       "      <td>Skip to main content This browser is no longer...</td>\n",
       "      <td></td>\n",
       "      <td></td>\n",
       "      <td></td>\n",
       "      <td></td>\n",
       "      <td>{\\n    \"Answer\": \"The article discusses two ke...</td>\n",
       "      <td>None</td>\n",
       "      <td>The article discusses the programming concepts...</td>\n",
       "      <td>What programming concepts in the C# language a...</td>\n",
       "      <td>True</td>\n",
       "      <td>True</td>\n",
       "      <td>7.411838</td>\n",
       "      <td>7ca400fc-ee10-4114-8214-2a4de1a9af6c</td>\n",
       "      <td>7c464ba0-91a7-44b2-87f8-290c7b342e95</td>\n",
       "    </tr>\n",
       "    <tr>\n",
       "      <th>25</th>\n",
       "      <td>https://en.wiktionary.org/wiki/algorithm</td>\n",
       "      <td>What is the etymology of the term 'algorithm'?</td>\n",
       "      <td>Jump to content Main menu Main menu move to si...</td>\n",
       "      <td></td>\n",
       "      <td></td>\n",
       "      <td></td>\n",
       "      <td></td>\n",
       "      <td>{\\n    \"Answer\": \"The term 'algorithm' is deri...</td>\n",
       "      <td>None</td>\n",
       "      <td>The term 'algorithm' originates from the Middl...</td>\n",
       "      <td>What is the etymology of the term 'algorithm'?</td>\n",
       "      <td>True</td>\n",
       "      <td>True</td>\n",
       "      <td>10.017931</td>\n",
       "      <td>7cdc51e4-ab0d-4a22-989b-804855c1085c</td>\n",
       "      <td>e04f2c8b-ffa8-4b79-9fc8-8fac33a05bf8</td>\n",
       "    </tr>\n",
       "    <tr>\n",
       "      <th>26</th>\n",
       "      <td>https://www.panpizza.ru/franchise</td>\n",
       "      <td>Какова контактная информация для вопросов о фр...</td>\n",
       "      <td>Всегда свежая и горячая! бесплатная доставка К...</td>\n",
       "      <td></td>\n",
       "      <td></td>\n",
       "      <td></td>\n",
       "      <td></td>\n",
       "      <td>{\\n    \"Answer\": \"Для вопросов о франшизе Пан ...</td>\n",
       "      <td>None</td>\n",
       "      <td>Контактная информация для вопросов о франшизе ...</td>\n",
       "      <td>Какова контактная информация для вопросов о фр...</td>\n",
       "      <td>True</td>\n",
       "      <td>False</td>\n",
       "      <td>7.162541</td>\n",
       "      <td>7ec4b107-fdb9-486e-a6b9-7f4825b47364</td>\n",
       "      <td>f12a7d09-65a2-40ce-807e-4121a999cf56</td>\n",
       "    </tr>\n",
       "    <tr>\n",
       "      <th>27</th>\n",
       "      <td>https://brestprog.by/topics/prefixsums/</td>\n",
       "      <td>Как используется операция XOR для нахождения з...</td>\n",
       "      <td>brestprog Список темРезультаты олимпиад Префик...</td>\n",
       "      <td>} for (int i = 1; i &lt; n; i++) { for (int j = 1...</td>\n",
       "      <td></td>\n",
       "      <td></td>\n",
       "      <td></td>\n",
       "      <td>{\\n    \"Answer\": \"Операция XOR используется дл...</td>\n",
       "      <td>None</td>\n",
       "      <td>Операция XOR используется для нахождения значе...</td>\n",
       "      <td>Как используется операция XOR для нахождения з...</td>\n",
       "      <td>False</td>\n",
       "      <td>True</td>\n",
       "      <td>12.022884</td>\n",
       "      <td>7fe77517-4f78-4dec-ac7d-07926ae7265c</td>\n",
       "      <td>f411012d-12df-42b6-ac30-465efc50bf59</td>\n",
       "    </tr>\n",
       "    <tr>\n",
       "      <th>28</th>\n",
       "      <td>https://www.khanacademy.org/science/physics</td>\n",
       "      <td>What information is missing to formulate a que...</td>\n",
       "      <td></td>\n",
       "      <td></td>\n",
       "      <td></td>\n",
       "      <td></td>\n",
       "      <td></td>\n",
       "      <td>{\\n    \"Answer\": \"The provided context is insu...</td>\n",
       "      <td>None</td>\n",
       "      <td>The text content from the source is missing, w...</td>\n",
       "      <td>What information is missing to formulate a que...</td>\n",
       "      <td>True</td>\n",
       "      <td>True</td>\n",
       "      <td>6.043955</td>\n",
       "      <td>87871e4a-685e-40f9-9ea8-5905a45b5434</td>\n",
       "      <td>1d866541-7558-495a-8ede-611e1fd853db</td>\n",
       "    </tr>\n",
       "    <tr>\n",
       "      <th>29</th>\n",
       "      <td>https://www.nobelprize.org/prizes/physics/2022...</td>\n",
       "      <td>Who were the laureates of the Nobel Prize in P...</td>\n",
       "      <td>Skip to content Open the search menu Close the...</td>\n",
       "      <td></td>\n",
       "      <td></td>\n",
       "      <td></td>\n",
       "      <td></td>\n",
       "      <td>{\\n    \"Answer\": \"The laureates of the Nobel P...</td>\n",
       "      <td>None</td>\n",
       "      <td>The Nobel Prize in Physics for 2022 was awarde...</td>\n",
       "      <td>Who were the laureates of the Nobel Prize in P...</td>\n",
       "      <td>True</td>\n",
       "      <td>True</td>\n",
       "      <td>9.754701</td>\n",
       "      <td>8ba4bde4-98b4-48d0-b38b-b6ad8dc944b3</td>\n",
       "      <td>6a91f586-28f5-49b1-9c05-a13dbdfb3041</td>\n",
       "    </tr>\n",
       "    <tr>\n",
       "      <th>30</th>\n",
       "      <td>https://www.techinsider.ru/technologies/166102...</td>\n",
       "      <td>Как современные разработки пытаются решить про...</td>\n",
       "      <td>над которым работал консорциум во главе с Boei...</td>\n",
       "      <td>с блестящим термостойким покрытием, он стал кл...</td>\n",
       "      <td>максимально ровной и гладкой — это позволяет в...</td>\n",
       "      <td></td>\n",
       "      <td></td>\n",
       "      <td>{\\n    \"Answer\": \"Современные разработки пытаю...</td>\n",
       "      <td>None</td>\n",
       "      <td>Современные разработки пытаются решить проблем...</td>\n",
       "      <td>Как современные разработки пытаются решить про...</td>\n",
       "      <td>True</td>\n",
       "      <td>True</td>\n",
       "      <td>19.426730</td>\n",
       "      <td>9066192b-f81f-4d57-b11c-8118a28d9e14</td>\n",
       "      <td>743ae695-cea9-41ab-81aa-f2772f783045</td>\n",
       "    </tr>\n",
       "    <tr>\n",
       "      <th>31</th>\n",
       "      <td>https://cyberleninka.ru/article/n/meditsinskie...</td>\n",
       "      <td>Какова структура и классификация российских ме...</td>\n",
       "      <td>физической сохранности; • увеличение цитируемо...</td>\n",
       "      <td>including medical (3968) ■ 1725 репозиториев, ...</td>\n",
       "      <td></td>\n",
       "      <td></td>\n",
       "      <td></td>\n",
       "      <td>{\\n    \"Answer\": \"Структура и классификация ро...</td>\n",
       "      <td>None</td>\n",
       "      <td>Российские медицинские репозитории в августе 2...</td>\n",
       "      <td>Какова структура и классификация российских ме...</td>\n",
       "      <td>True</td>\n",
       "      <td>False</td>\n",
       "      <td>10.452616</td>\n",
       "      <td>93ae2020-6573-4db6-a3e6-3f70609da599</td>\n",
       "      <td>e2a4226c-481a-4ecd-99ae-51930b1db3db</td>\n",
       "    </tr>\n",
       "    <tr>\n",
       "      <th>32</th>\n",
       "      <td>https://spark.apache.org/docs/latest/api/pytho...</td>\n",
       "      <td>What are the functions available for transform...</td>\n",
       "      <td>pysparksqlDataFramedescribe pysparksqlDataFram...</td>\n",
       "      <td>pysparksqlColumndesc_nulls_last pysparksqlColu...</td>\n",
       "      <td></td>\n",
       "      <td></td>\n",
       "      <td></td>\n",
       "      <td>{\\n    \"Answer\": \"Based on the provided contex...</td>\n",
       "      <td>None</td>\n",
       "      <td>The context provided mentions various function...</td>\n",
       "      <td>What are the functions available for transform...</td>\n",
       "      <td>False</td>\n",
       "      <td>False</td>\n",
       "      <td>140.206370</td>\n",
       "      <td>992791d7-af8f-4fe0-90d0-f8bc0517f251</td>\n",
       "      <td>d643855e-11e0-466e-aca6-92217dda3fdc</td>\n",
       "    </tr>\n",
       "    <tr>\n",
       "      <th>33</th>\n",
       "      <td>https://en.wikipedia.org/wiki/Periodic_table</td>\n",
       "      <td>What are the factors determining the placement...</td>\n",
       "      <td>the placement of the period 1 elements hydroge...</td>\n",
       "      <td>since unlike its higher analogues, it does not...</td>\n",
       "      <td></td>\n",
       "      <td></td>\n",
       "      <td></td>\n",
       "      <td>{\\n    \"Answer\": \"The placement of hydrogen an...</td>\n",
       "      <td>None</td>\n",
       "      <td>The placement of hydrogen and helium in the pe...</td>\n",
       "      <td>What are the factors determining the placement...</td>\n",
       "      <td>True</td>\n",
       "      <td>True</td>\n",
       "      <td>12.696519</td>\n",
       "      <td>9c6dd878-29ac-4344-8822-84e32e4e04db</td>\n",
       "      <td>f7195ed1-a577-42fd-9e23-3c3d76b248e9</td>\n",
       "    </tr>\n",
       "    <tr>\n",
       "      <th>34</th>\n",
       "      <td>https://en.wikipedia.org/wiki/History_of_the_p...</td>\n",
       "      <td>What were the developments and changes in the ...</td>\n",
       "      <td>and the five newly discovered inert gases (now...</td>\n",
       "      <td>similar to the noble gases of his group zero, ...</td>\n",
       "      <td></td>\n",
       "      <td></td>\n",
       "      <td></td>\n",
       "      <td>{\\n    \"Answer\": \"The early 20th century saw s...</td>\n",
       "      <td>None</td>\n",
       "      <td>During the early 20th century, significant dev...</td>\n",
       "      <td>What were the developments and changes in the ...</td>\n",
       "      <td>True</td>\n",
       "      <td>False</td>\n",
       "      <td>26.019803</td>\n",
       "      <td>a3a3daf6-3e8b-4702-bd96-9c7801885092</td>\n",
       "      <td>39266d5a-b0bd-4c58-b999-239d3507d21d</td>\n",
       "    </tr>\n",
       "    <tr>\n",
       "      <th>35</th>\n",
       "      <td>https://otvet.mail.ru/question/52442474</td>\n",
       "      <td>Какие преступления совершил Варавва согласно р...</td>\n",
       "      <td>1 ставка Таким образом в эту эпоху ИСККОН раск...</td>\n",
       "      <td></td>\n",
       "      <td></td>\n",
       "      <td></td>\n",
       "      <td></td>\n",
       "      <td>{\\n    \"Answer\": \"Согласно различным Евангелия...</td>\n",
       "      <td>None</td>\n",
       "      <td>Согласно различным Евангелиям, Варавва соверши...</td>\n",
       "      <td>Какие преступления совершил Варавва согласно р...</td>\n",
       "      <td>False</td>\n",
       "      <td>True</td>\n",
       "      <td>8.458180</td>\n",
       "      <td>a46ee3dd-27db-4dbc-a6b6-ef6c4979e8f5</td>\n",
       "      <td>f4a69ef3-6ad5-4e66-97b1-a9f0362ba713</td>\n",
       "    </tr>\n",
       "    <tr>\n",
       "      <th>36</th>\n",
       "      <td>https://www.britannica.com/science/quantum-mec...</td>\n",
       "      <td>What is Planck's radiation law and how did it ...</td>\n",
       "      <td>Search Britannica Click here to search Search ...</td>\n",
       "      <td>a dark band is produced when the crest of one ...</td>\n",
       "      <td></td>\n",
       "      <td></td>\n",
       "      <td></td>\n",
       "      <td>{\\n    \"Answer\": \"Planck's radiation law, prop...</td>\n",
       "      <td>None</td>\n",
       "      <td>Planck's radiation law was a fundamental devel...</td>\n",
       "      <td>What is Planck's radiation law and how did it ...</td>\n",
       "      <td>False</td>\n",
       "      <td>True</td>\n",
       "      <td>9.814238</td>\n",
       "      <td>a9ec6c9b-c08b-4ba4-b088-f80c318caef9</td>\n",
       "      <td>f0bea736-db94-4291-bdd6-f3081b33b997</td>\n",
       "    </tr>\n",
       "    <tr>\n",
       "      <th>37</th>\n",
       "      <td>https://brestprog.by/topics/primesieve/</td>\n",
       "      <td>В чем заключается различие между наивной и опт...</td>\n",
       "      <td>brestprog Список темРезультаты олимпиад Решето...</td>\n",
       "      <td>посмотрим на решето Эратосфена, в самой его на...</td>\n",
       "      <td></td>\n",
       "      <td></td>\n",
       "      <td></td>\n",
       "      <td>{\\n    \"Answer\": \"Различие между наивной и опт...</td>\n",
       "      <td>None</td>\n",
       "      <td>Различие между наивной и оптимальной реализаци...</td>\n",
       "      <td>В чем заключается различие между наивной и опт...</td>\n",
       "      <td>False</td>\n",
       "      <td>True</td>\n",
       "      <td>15.929783</td>\n",
       "      <td>b04d417f-a4da-4304-87da-fddfafeac4c0</td>\n",
       "      <td>a2e1b34a-189b-424a-ae23-bb715fca752b</td>\n",
       "    </tr>\n",
       "    <tr>\n",
       "      <th>38</th>\n",
       "      <td>https://replit.com/~</td>\n",
       "      <td>What features are offered by the AI web develo...</td>\n",
       "      <td>Build software, betterOn-demand coding assista...</td>\n",
       "      <td></td>\n",
       "      <td></td>\n",
       "      <td></td>\n",
       "      <td></td>\n",
       "      <td>{\\n    \"Answer\": \"The AI web developer mention...</td>\n",
       "      <td>None</td>\n",
       "      <td>The AI web developer offers features such as o...</td>\n",
       "      <td>What features are offered by the AI web develo...</td>\n",
       "      <td>True</td>\n",
       "      <td>True</td>\n",
       "      <td>6.730995</td>\n",
       "      <td>b73bed7a-20ad-4e01-80be-d4cc7e37bde4</td>\n",
       "      <td>401bf6e4-9e9b-4291-93c2-8d738f8cf3de</td>\n",
       "    </tr>\n",
       "    <tr>\n",
       "      <th>39</th>\n",
       "      <td>https://arxiv.org/abs/2106.10173</td>\n",
       "      <td>What are the key features and benefits of the ...</td>\n",
       "      <td>Skip to main content We gratefully acknowledge...</td>\n",
       "      <td></td>\n",
       "      <td></td>\n",
       "      <td></td>\n",
       "      <td></td>\n",
       "      <td>{\\n    \"Answer\": \"The FKWC tests introduced by...</td>\n",
       "      <td>None</td>\n",
       "      <td>The FKWC tests introduced by Kelly Ramsay and ...</td>\n",
       "      <td>What are the key features and benefits of the ...</td>\n",
       "      <td>True</td>\n",
       "      <td>True</td>\n",
       "      <td>11.557707</td>\n",
       "      <td>bac40893-40e3-4bc9-ae20-8c308ebf4d5e</td>\n",
       "      <td>1fcbd7cd-6ff2-402e-b35f-6b69daee5c63</td>\n",
       "    </tr>\n",
       "    <tr>\n",
       "      <th>40</th>\n",
       "      <td>https://en.wikipedia.org/wiki/Mathematics</td>\n",
       "      <td>What are the notable contributions of Archimed...</td>\n",
       "      <td>\"Euclid of Alexandria\" p 119 ^ Boyer 1991, \"Ar...</td>\n",
       "      <td></td>\n",
       "      <td></td>\n",
       "      <td></td>\n",
       "      <td></td>\n",
       "      <td>{\\n    \"Answer\": \"Archimedes of Syracuse made ...</td>\n",
       "      <td>None</td>\n",
       "      <td>The notable contributions of Archimedes of Syr...</td>\n",
       "      <td>What are the notable contributions of Archimed...</td>\n",
       "      <td>True</td>\n",
       "      <td>False</td>\n",
       "      <td>11.148025</td>\n",
       "      <td>bf7f7bd5-40ff-4e62-b26f-b54d738b74e8</td>\n",
       "      <td>2eb90eb2-0e31-4613-94e3-a44f6b377cce</td>\n",
       "    </tr>\n",
       "    <tr>\n",
       "      <th>41</th>\n",
       "      <td>https://www.bbc.co.uk/news/world-60525350</td>\n",
       "      <td>What did Trump's chosen Ukraine-Russia envoy s...</td>\n",
       "      <td>BBC HomepageSkip to contentAccessibility HelpY...</td>\n",
       "      <td>published at 23:19 27 NovemberWhat has Trump's...</td>\n",
       "      <td></td>\n",
       "      <td></td>\n",
       "      <td></td>\n",
       "      <td>{\\n    \"Answer\": \"The context provided does no...</td>\n",
       "      <td>None</td>\n",
       "      <td>The sources provided do not contain specific i...</td>\n",
       "      <td>What did Trump's chosen Ukraine-Russia envoy s...</td>\n",
       "      <td>True</td>\n",
       "      <td>True</td>\n",
       "      <td>10.461721</td>\n",
       "      <td>c0cf2626-90b0-4ae7-a8e4-ee25aed07a1f</td>\n",
       "      <td>75ef70be-28ed-425c-8428-b7f314f3261e</td>\n",
       "    </tr>\n",
       "    <tr>\n",
       "      <th>42</th>\n",
       "      <td>https://www.nasa.gov/mission_pages/hubble/stor...</td>\n",
       "      <td>What are the scientific instruments on the Hub...</td>\n",
       "      <td>Skip to main content Missions Search All NASA ...</td>\n",
       "      <td>galaxies, and other astronomical objects that ...</td>\n",
       "      <td>increasing Hubble's sensitivity at least 10 ti...</td>\n",
       "      <td></td>\n",
       "      <td></td>\n",
       "      <td>{\\n    \"Answer\": \"The Hubble Space Telescope i...</td>\n",
       "      <td>None</td>\n",
       "      <td>The Hubble Space Telescope has several scienti...</td>\n",
       "      <td>What are the scientific instruments on the Hub...</td>\n",
       "      <td>True</td>\n",
       "      <td>False</td>\n",
       "      <td>14.839334</td>\n",
       "      <td>c34105b2-afef-4c8d-a14f-05aabe279689</td>\n",
       "      <td>d8c86a2b-dec5-4f04-b055-82367e53066e</td>\n",
       "    </tr>\n",
       "    <tr>\n",
       "      <th>43</th>\n",
       "      <td>https://docs.python.org/3/library/</td>\n",
       "      <td>What are some key features and services provid...</td>\n",
       "      <td>Theme Auto Light Dark Previous topic 10 Full G...</td>\n",
       "      <td>or, not Comparisons Numeric Types â int, flo...</td>\n",
       "      <td>arguments and subcommands logging â Logging ...</td>\n",
       "      <td></td>\n",
       "      <td></td>\n",
       "      <td>{\\n    \"Answer\": \"The Python Standard Library ...</td>\n",
       "      <td>None</td>\n",
       "      <td>The Python Standard Library provides a compreh...</td>\n",
       "      <td>What are some key features and services provid...</td>\n",
       "      <td>True</td>\n",
       "      <td>True</td>\n",
       "      <td>20.171521</td>\n",
       "      <td>c3671815-ae37-4995-b10a-23520cf7cbb1</td>\n",
       "      <td>3c1e26e0-f4a8-442e-a047-c2d3819769ce</td>\n",
       "    </tr>\n",
       "    <tr>\n",
       "      <th>44</th>\n",
       "      <td>https://nasa.gov/mission_pages/hubble/main/ind...</td>\n",
       "      <td>What unique scientific capabilities has the Hu...</td>\n",
       "      <td>Skip to main content Missions Search All NASA ...</td>\n",
       "      <td>Each month in 2025, the Hubble team will relea...</td>\n",
       "      <td>000+ papers published on its discoveries, Hubb...</td>\n",
       "      <td></td>\n",
       "      <td></td>\n",
       "      <td>{\\n    \"Answer\": \"The Hubble Space Telescope h...</td>\n",
       "      <td>None</td>\n",
       "      <td>The Hubble Space Telescope has demonstrated a ...</td>\n",
       "      <td>What unique scientific capabilities has the Hu...</td>\n",
       "      <td>False</td>\n",
       "      <td>True</td>\n",
       "      <td>20.440815</td>\n",
       "      <td>c8063428-ca29-4506-9f18-dfabf0491b78</td>\n",
       "      <td>953e67e2-b34e-49fa-8364-d98cbf043b29</td>\n",
       "    </tr>\n",
       "    <tr>\n",
       "      <th>45</th>\n",
       "      <td>https://developer.apple.com/documentation/swift</td>\n",
       "      <td>What does the page require to display its cont...</td>\n",
       "      <td>This page requires JavaScriptPlease turn on Ja...</td>\n",
       "      <td></td>\n",
       "      <td></td>\n",
       "      <td></td>\n",
       "      <td></td>\n",
       "      <td>{\\n    \"Answer\": \"The page requires JavaScript...</td>\n",
       "      <td>None</td>\n",
       "      <td>The page requires JavaScript to be turned on i...</td>\n",
       "      <td>What does the page require to display its cont...</td>\n",
       "      <td>True</td>\n",
       "      <td>True</td>\n",
       "      <td>5.608677</td>\n",
       "      <td>ccaf7ea8-cb46-4a79-add7-a7eae3519e4b</td>\n",
       "      <td>c5900f62-2e61-452b-bb32-539df29395fc</td>\n",
       "    </tr>\n",
       "    <tr>\n",
       "      <th>46</th>\n",
       "      <td>https://habr.com/ru/companies/dell_technologie...</td>\n",
       "      <td>Какой цвет подсветки клавиатуры у Dell G3 15 и...</td>\n",
       "      <td>которая к этому очень располагает Тут есть отд...</td>\n",
       "      <td></td>\n",
       "      <td></td>\n",
       "      <td></td>\n",
       "      <td></td>\n",
       "      <td>{\\n    \"Answer\": \"Цвет подсветки клавиатуры у ...</td>\n",
       "      <td>None</td>\n",
       "      <td>У Dell G3 15 подсветка клавиатуры имеет успока...</td>\n",
       "      <td>Какой цвет подсветки клавиатуры у Dell G3 15 и...</td>\n",
       "      <td>True</td>\n",
       "      <td>True</td>\n",
       "      <td>6.997618</td>\n",
       "      <td>d89f4957-1db0-41d7-8c76-de2af0af009b</td>\n",
       "      <td>d24cea1d-873b-4c1b-a0b7-9154008a940f</td>\n",
       "    </tr>\n",
       "    <tr>\n",
       "      <th>47</th>\n",
       "      <td>https://www.coursera.org/learn/machine-learning</td>\n",
       "      <td>What are the main educational components and c...</td>\n",
       "      <td>For IndividualsFor BusinessesFor UniversitiesF...</td>\n",
       "      <td>You're joining millions of others who have tak...</td>\n",
       "      <td>What's included12 videos2 readings4 assignment...</td>\n",
       "      <td></td>\n",
       "      <td></td>\n",
       "      <td>{\\n    \"Answer\": \"The 'Supervised Machine Lear...</td>\n",
       "      <td>None</td>\n",
       "      <td>The 'Supervised Machine Learning: Regression a...</td>\n",
       "      <td>What are the main educational components and c...</td>\n",
       "      <td>True</td>\n",
       "      <td>True</td>\n",
       "      <td>13.452694</td>\n",
       "      <td>d9cb69b8-2405-4ea5-8124-f5e4af8cfc8d</td>\n",
       "      <td>df727055-f02c-4d06-9c81-f500d6d22e5e</td>\n",
       "    </tr>\n",
       "    <tr>\n",
       "      <th>48</th>\n",
       "      <td>https://www.imf.org/en/Publications/WEO</td>\n",
       "      <td>What are the key themes and economic projectio...</td>\n",
       "      <td>English عربي 中文 Français 日本語 Русский Español A...</td>\n",
       "      <td>October 2024: Policy Pivot, Rising Threats Oct...</td>\n",
       "      <td>July 2023: Near-Term Resilience, Persistent Ch...</td>\n",
       "      <td></td>\n",
       "      <td></td>\n",
       "      <td>{\\n                        \"Answer\": \"The key ...</td>\n",
       "      <td>None</td>\n",
       "      <td>The IMF's World Economic Outlook (WEO) reports...</td>\n",
       "      <td>What are the key themes and economic projectio...</td>\n",
       "      <td>True</td>\n",
       "      <td>True</td>\n",
       "      <td>30.896820</td>\n",
       "      <td>dab1bdba-a286-48ca-a2d2-8a8210cff37d</td>\n",
       "      <td>9d16c7b7-f391-48ee-818c-c112f0102585</td>\n",
       "    </tr>\n",
       "    <tr>\n",
       "      <th>49</th>\n",
       "      <td>https://edx.org/course/cs50s-introduction-to-c...</td>\n",
       "      <td>What topics and skills are covered in HarvardX...</td>\n",
       "      <td>Skip to main contentSkip to Xpert ChatbotToggl...</td>\n",
       "      <td>Deutsch, English, EspaÃ±ol, FranÃ§ais, à¤¹à¤¿à...</td>\n",
       "      <td></td>\n",
       "      <td></td>\n",
       "      <td></td>\n",
       "      <td>{\\n    \"Answer\": \"HarvardX's CS50's Introducti...</td>\n",
       "      <td>None</td>\n",
       "      <td>HarvardX's CS50 course covers a wide range of ...</td>\n",
       "      <td>What topics and skills are covered in HarvardX...</td>\n",
       "      <td>True</td>\n",
       "      <td>True</td>\n",
       "      <td>8.534119</td>\n",
       "      <td>dcdee894-71f8-4973-a8dc-8616811ac13e</td>\n",
       "      <td>9c0c636a-c910-4499-9132-1cad73420060</td>\n",
       "    </tr>\n",
       "    <tr>\n",
       "      <th>50</th>\n",
       "      <td>https://ru.wikipedia.org/wiki/Математика</td>\n",
       "      <td>Какие подходы в философии математики существую...</td>\n",
       "      <td>наряду с абстрагированием — обобщение Например...</td>\n",
       "      <td>а оперируют понятиями и фактами, установленным...</td>\n",
       "      <td></td>\n",
       "      <td></td>\n",
       "      <td></td>\n",
       "      <td>{\\n    \"Answer\": \"В философии математики сущес...</td>\n",
       "      <td>None</td>\n",
       "      <td>В философии математики существуют несколько по...</td>\n",
       "      <td>Какие подходы в философии математики существую...</td>\n",
       "      <td>True</td>\n",
       "      <td>True</td>\n",
       "      <td>27.207803</td>\n",
       "      <td>e104e632-4e64-401e-9c03-ee3ae64ab47e</td>\n",
       "      <td>889b7599-b61e-408d-8f68-8398ad0e8938</td>\n",
       "    </tr>\n",
       "    <tr>\n",
       "      <th>51</th>\n",
       "      <td>https://brestprog.by/topics/trie/</td>\n",
       "      <td>Как реализовать добавление и проверку наличия ...</td>\n",
       "      <td>brestprog Список темРезультаты олимпиад Бор Оп...</td>\n",
       "      <td>если они ещё не созданы, и увеличить счётчик с...</td>\n",
       "      <td></td>\n",
       "      <td></td>\n",
       "      <td></td>\n",
       "      <td>{\\n    \"Answer\": \"Для реализации добавления и ...</td>\n",
       "      <td>None</td>\n",
       "      <td>Чтобы добавить строку в префиксное дерево (бор...</td>\n",
       "      <td>Как реализовать добавление и проверку наличия ...</td>\n",
       "      <td>True</td>\n",
       "      <td>True</td>\n",
       "      <td>21.614784</td>\n",
       "      <td>e238730a-243d-48b6-8b88-ed484108ba59</td>\n",
       "      <td>44727862-a4a1-431f-9c98-13b9b74057da</td>\n",
       "    </tr>\n",
       "    <tr>\n",
       "      <th>52</th>\n",
       "      <td>https://kino.mail.ru/series_937333_slovo_patsana/</td>\n",
       "      <td>Какие события и темы поднимаются в сериале \"Сл...</td>\n",
       "      <td>Анны и Марии ПересильдПавел Лунгин сравнил «Бр...</td>\n",
       "      <td>«пришьется» к уличной банде, набьет мозоли на ...</td>\n",
       "      <td>!Понравилась рецензия? -8+–Наталья Устинова31 ...</td>\n",
       "      <td></td>\n",
       "      <td></td>\n",
       "      <td>{\\n    \"Answer\": \"В сериале \\\"Слово пацана Кро...</td>\n",
       "      <td>None</td>\n",
       "      <td>Сериал 'Слово пацана Кровь на асфальте' основа...</td>\n",
       "      <td>Какие события и темы поднимаются в сериале \"Сл...</td>\n",
       "      <td>True</td>\n",
       "      <td>True</td>\n",
       "      <td>11.327378</td>\n",
       "      <td>e420c2c7-de22-469b-b370-5fde34979937</td>\n",
       "      <td>2bc5c0a8-74d5-41ba-9b2e-f79068292f00</td>\n",
       "    </tr>\n",
       "    <tr>\n",
       "      <th>53</th>\n",
       "      <td>https://brestprog.by/topics/bipartite/</td>\n",
       "      <td>Как можно проверить, является ли граф двудольн...</td>\n",
       "      <td>brestprog Список темРезультаты олимпиад Двудол...</td>\n",
       "      <td></td>\n",
       "      <td></td>\n",
       "      <td></td>\n",
       "      <td></td>\n",
       "      <td>{\\n    \"Answer\": \"Для проверки графа на двудол...</td>\n",
       "      <td>None</td>\n",
       "      <td>Чтобы проверить, является ли граф двудольным с...</td>\n",
       "      <td>Как можно проверить, является ли граф двудольн...</td>\n",
       "      <td>True</td>\n",
       "      <td>True</td>\n",
       "      <td>7.887147</td>\n",
       "      <td>e4bd05b7-0686-4e90-8d30-97e0d6394769</td>\n",
       "      <td>bd6f0581-076e-4a82-abd0-5abf7c52952a</td>\n",
       "    </tr>\n",
       "    <tr>\n",
       "      <th>54</th>\n",
       "      <td>https://www.gutenberg.org/ebooks/1342</td>\n",
       "      <td>What themes and social dynamics are explored i...</td>\n",
       "      <td>Menu▾ About ▾ ▾ About Project Gutenberg Collec...</td>\n",
       "      <td></td>\n",
       "      <td></td>\n",
       "      <td></td>\n",
       "      <td></td>\n",
       "      <td>{\\n    \"Answer\": \"'Pride and Prejudice' by Jan...</td>\n",
       "      <td>None</td>\n",
       "      <td>According to the summary from Project Gutenber...</td>\n",
       "      <td>What themes and social dynamics are explored i...</td>\n",
       "      <td>True</td>\n",
       "      <td>True</td>\n",
       "      <td>9.256308</td>\n",
       "      <td>e648c0e4-38de-4f16-9d1d-ba6d850d26f9</td>\n",
       "      <td>73bbc494-6ec3-4419-93c5-6d3f3f3556d4</td>\n",
       "    </tr>\n",
       "    <tr>\n",
       "      <th>55</th>\n",
       "      <td>https://metmuseum.org/art/collection/search/43...</td>\n",
       "      <td>Which exhibitions and publications feature dis...</td>\n",
       "      <td>no 34 [see Wildenstein 1996]New York World's F...</td>\n",
       "      <td>\" Paris, 1985, pp 46, 48, 53–54, 75, 216, 222,...</td>\n",
       "      <td>Galeries nationales du Grand Palais Paris, 198...</td>\n",
       "      <td>1994, pp 143, 246–48, 433–34, 436, no 137, ill...</td>\n",
       "      <td>unpaginated Anne-Marie Bergeret-Gourbin Monet:...</td>\n",
       "      <td>{\\n    \"Answer\": \"Monet's work, specifically c...</td>\n",
       "      <td>None</td>\n",
       "      <td>Monet's work, specifically concerning the infl...</td>\n",
       "      <td>Which exhibitions and publications feature dis...</td>\n",
       "      <td>False</td>\n",
       "      <td>False</td>\n",
       "      <td>26.510260</td>\n",
       "      <td>e8aba9d1-7295-4f1b-99ce-e6bfcc7ff15d</td>\n",
       "      <td>bf0e6bb7-c58d-4137-8a60-a1ed3b94e948</td>\n",
       "    </tr>\n",
       "    <tr>\n",
       "      <th>56</th>\n",
       "      <td>https://www.w3schools.com/html/</td>\n",
       "      <td>¿Qué cursos de certificados ofrece W3Schools p...</td>\n",
       "      <td>Tutorials Exercises Certificates Services Menu...</td>\n",
       "      <td>Programs Full Access Best Value! Front End Cer...</td>\n",
       "      <td></td>\n",
       "      <td></td>\n",
       "      <td></td>\n",
       "      <td>{\\n    \"Answer\": \"W3Schools ofrece varios curs...</td>\n",
       "      <td>None</td>\n",
       "      <td>W3Schools ofrece los siguientes cursos de cert...</td>\n",
       "      <td>¿Qué cursos de certificados ofrece W3Schools p...</td>\n",
       "      <td>True</td>\n",
       "      <td>True</td>\n",
       "      <td>7.866324</td>\n",
       "      <td>f0d07d24-7223-458b-97db-3da4f77d5c31</td>\n",
       "      <td>36ed811a-fc68-4b8a-9be9-d6f8a02223b8</td>\n",
       "    </tr>\n",
       "    <tr>\n",
       "      <th>57</th>\n",
       "      <td>https://www.ted.com/talks/simon_sinek_how_grea...</td>\n",
       "      <td>What is Simon Sinek's model for inspirational ...</td>\n",
       "      <td>Skip to main contentSkip to searchIdeas change...</td>\n",
       "      <td></td>\n",
       "      <td></td>\n",
       "      <td></td>\n",
       "      <td></td>\n",
       "      <td>{\\n    \"Answer\": \"Simon Sinek's model for insp...</td>\n",
       "      <td>None</td>\n",
       "      <td>Simon Sinek's model for inspirational leadersh...</td>\n",
       "      <td>What is Simon Sinek's model for inspirational ...</td>\n",
       "      <td>True</td>\n",
       "      <td>True</td>\n",
       "      <td>6.151112</td>\n",
       "      <td>f9ad3c6c-ac37-4985-8b1e-74bbd672f227</td>\n",
       "      <td>a94e029d-c94a-41c6-adc7-41221bbb1964</td>\n",
       "    </tr>\n",
       "    <tr>\n",
       "      <th>58</th>\n",
       "      <td>https://developer.mozilla.org/en-US/docs/Web/J...</td>\n",
       "      <td>What are some common JavaScript syntax errors ...</td>\n",
       "      <td>Skip to main contentSkip to searchSkip to sele...</td>\n",
       "      <td>head declarations may not have initializersSyn...</td>\n",
       "      <td></td>\n",
       "      <td></td>\n",
       "      <td></td>\n",
       "      <td>{\\n    \"Answer\": \"Some common JavaScript synta...</td>\n",
       "      <td>None</td>\n",
       "      <td>Some common JavaScript syntax errors and their...</td>\n",
       "      <td>What are some common JavaScript syntax errors ...</td>\n",
       "      <td>True</td>\n",
       "      <td>False</td>\n",
       "      <td>10.005912</td>\n",
       "      <td>ffdcc28c-e4ec-43f7-b601-80e01c40f099</td>\n",
       "      <td>5c1f871d-f9ff-4215-8bc1-62c712e2c929</td>\n",
       "    </tr>\n",
       "  </tbody>\n",
       "</table>\n",
       "</div>"
      ],
      "text/plain": [
       "<ExperimentResults json is-85b2f95f>"
      ]
     },
     "execution_count": 5,
     "metadata": {},
     "output_type": "execute_result"
    }
   ],
   "source": [
    "import os\n",
    "from mistralai import Mistral\n",
    "\n",
    "m_api_key = 'mistral api key'\n",
    "model = \"mistral-large-latest\"\n",
    "\n",
    "\n",
    "\n",
    "from langsmith import evaluate, Client\n",
    "from langsmith.schemas import Example, Run\n",
    "import json\n",
    "\n",
    "# 1. select dataset\n",
    "client = Client()\n",
    "\n",
    "dataset_name = 'q_a_t_u'\n",
    "\n",
    "# 2. metrics\n",
    "\n",
    "# is json output format\n",
    "def is_json(root_run: Run, example: Example) -> dict:\n",
    "    try:\n",
    "        json.loads(root_run.outputs[\"output\"])\n",
    "        return True\n",
    "    except:\n",
    "        return False\n",
    "    \n",
    "# get right answer to question\n",
    "def is_rigth_ans_with_batch(root_run: Run, example: Example) -> dict:\n",
    "    try:\n",
    "        time.sleep(4)\n",
    "        mc_client = Mistral(api_key=m_api_key)\n",
    "        chat_response = mc_client.chat.complete(\n",
    "        model= model,\n",
    "        messages = [\n",
    "                    {\"role\": \"system\",\n",
    "                        \"content\": f\"\"\"\n",
    "                        You are a helpful AI assistant focused on checking ans and question.\n",
    "                        Your main task is to determine whether the correct answer has been given to the question. \n",
    "                        You have a reference answer {example.outputs['answer/0']}, \n",
    "                        and here is the actual answer {root_run.outputs[\"output\"]}. \n",
    "                        If the actual answer matches, return True;\n",
    "                        otherwise, return False.\n",
    "                        Return only True or only False.\n",
    "\n",
    "                        Format as:\n",
    "                        [True/False]\n",
    "                     \"\"\"}])\n",
    "\n",
    "        print(chat_response.choices[0].message.content)\n",
    "        if 'True' in chat_response.choices[0].message.content or 'true' in chat_response.choices[0].message.content:\n",
    "            return True\n",
    "        else:\n",
    "            return False\n",
    "    except:\n",
    "        return False\n",
    "    \n",
    "# function - send question with batch\n",
    "def simp_chat(x):\n",
    "    time.sleep(4)\n",
    "    m_client = Mistral(api_key=m_api_key)\n",
    "    chat_response = m_client.chat.complete(\n",
    "        model= model,\n",
    "        messages = [\n",
    "                    {\"role\": \"system\",\n",
    "                        \"content\": \"\"\"\n",
    "                        You are a helpful AI assistant focused on answering questions based on provided context.\n",
    "                     Your core responsibilities:\n",
    "\n",
    "                    - Use only information from the given context.\n",
    "                    - When you reference information from a source, cite it by adding the source number in square brackets at the end of the sentence (e.g., [1]).\n",
    "                    - Use the source numbers as provided in the Sources section.\n",
    "                    - Acknowledge limitations when context is insufficient.\n",
    "                    - Highlight any contradictions in sources.\n",
    "                    - Respond in the same language as the question is asked.\n",
    "                    - Return right json. \n",
    "                    - Do not write text \"```json ...\" before {, return only {}.\n",
    "\n",
    "                    Format your responses as:\n",
    "                    {\n",
    "                        \"Answer\": \"[detailed response with sources citations in square brackets]\",\n",
    "                        \"Sources\": {\n",
    "                            \"[source_id1]\" : \"[source link]\",\n",
    "                            \"[source_id2]\" : \"[source link]\",\n",
    "                            .....\n",
    "                            \"[source_idn]\" : \"[source link]\"\n",
    "                        }\n",
    "                    }\"\"\"\n",
    "                    },\n",
    "            {\n",
    "                \"role\": \"user\",\n",
    "                \"content\": f\"\"\"Here is the relevant context:\n",
    "\n",
    "                    {x['info_rag/0']}\n",
    "                    {x['info_rag/1']}\n",
    "                    {x['info_rag/2']}\n",
    "                    {x['info_rag/3']},\n",
    "                    {x['info_rag/4']}\n",
    "\n",
    "                    Question: {x['question']}\n",
    "\n",
    "                    Please provide a complete answer following the required format.\"\"\",\n",
    "                                },\n",
    "                            ])\n",
    "    return chat_response.choices[0].message.content\n",
    "\n",
    "# 3. Run an evaluation\n",
    "evaluate(\n",
    "    simp_chat,\n",
    "    data=dataset_name,\n",
    "    evaluators=[is_json, is_rigth_ans_with_batch],\n",
    "    experiment_prefix=\"json is\"\n",
    ")"
   ]
  },
  {
   "attachments": {
    "langsmith_metrics.png": {
     "image/png": "[encoded data removed]"
    }
   },
   "cell_type": "markdown",
   "metadata": {},
   "source": [
    "метрики(итоговый результат последннее значения на графиках + цифры внизу):\n",
    "![langsmith_metrics.png](attachment:langsmith_metrics.png)"
   ]
  }
 ],
 "metadata": {
  "kernelspec": {
   "display_name": "Python 3",
   "language": "python",
   "name": "python3"
  },
  "language_info": {
   "codemirror_mode": {
    "name": "ipython",
    "version": 3
   },
   "file_extension": ".py",
   "mimetype": "text/x-python",
   "name": "python",
   "nbconvert_exporter": "python",
   "pygments_lexer": "ipython3",
   "version": "3.12.7"
  }
 },
 "nbformat": 4,
 "nbformat_minor": 2
}
