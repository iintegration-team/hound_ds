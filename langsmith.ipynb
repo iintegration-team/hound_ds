{
 "cells": [
  {
   "cell_type": "code",
   "execution_count": 1,
   "metadata": {},
   "outputs": [
    {
     "name": "stdout",
     "output_type": "stream",
     "text": [
      "Requirement already satisfied: langsmith in c:\\users\\user\\appdata\\local\\programs\\python\\python313\\lib\\site-packages (0.1.147)\n",
      "Collecting langsmith\n",
      "  Using cached langsmith-0.2.1-py3-none-any.whl.metadata (14 kB)\n",
      "Requirement already satisfied: httpx<1,>=0.23.0 in c:\\users\\user\\appdata\\local\\programs\\python\\python313\\lib\\site-packages (from langsmith) (0.28.1)\n",
      "Requirement already satisfied: orjson<4.0.0,>=3.9.14 in c:\\users\\user\\appdata\\local\\programs\\python\\python313\\lib\\site-packages (from langsmith) (3.10.12)\n",
      "Requirement already satisfied: pydantic<3.0.0,>=2.7.4 in c:\\users\\user\\appdata\\local\\programs\\python\\python313\\lib\\site-packages (from langsmith) (2.10.3)\n",
      "Requirement already satisfied: requests<3,>=2 in c:\\users\\user\\appdata\\local\\programs\\python\\python313\\lib\\site-packages (from langsmith) (2.32.3)\n",
      "Requirement already satisfied: requests-toolbelt<2.0.0,>=1.0.0 in c:\\users\\user\\appdata\\local\\programs\\python\\python313\\lib\\site-packages (from langsmith) (1.0.0)\n",
      "Requirement already satisfied: anyio in c:\\users\\user\\appdata\\local\\programs\\python\\python313\\lib\\site-packages (from httpx<1,>=0.23.0->langsmith) (4.7.0)\n",
      "Requirement already satisfied: certifi in c:\\users\\user\\appdata\\local\\programs\\python\\python313\\lib\\site-packages (from httpx<1,>=0.23.0->langsmith) (2024.8.30)\n",
      "Requirement already satisfied: httpcore==1.* in c:\\users\\user\\appdata\\local\\programs\\python\\python313\\lib\\site-packages (from httpx<1,>=0.23.0->langsmith) (1.0.7)\n",
      "Requirement already satisfied: idna in c:\\users\\user\\appdata\\local\\programs\\python\\python313\\lib\\site-packages (from httpx<1,>=0.23.0->langsmith) (3.10)\n",
      "Requirement already satisfied: h11<0.15,>=0.13 in c:\\users\\user\\appdata\\local\\programs\\python\\python313\\lib\\site-packages (from httpcore==1.*->httpx<1,>=0.23.0->langsmith) (0.14.0)\n",
      "Requirement already satisfied: annotated-types>=0.6.0 in c:\\users\\user\\appdata\\local\\programs\\python\\python313\\lib\\site-packages (from pydantic<3.0.0,>=2.7.4->langsmith) (0.7.0)\n",
      "Requirement already satisfied: pydantic-core==2.27.1 in c:\\users\\user\\appdata\\local\\programs\\python\\python313\\lib\\site-packages (from pydantic<3.0.0,>=2.7.4->langsmith) (2.27.1)\n",
      "Requirement already satisfied: typing-extensions>=4.12.2 in c:\\users\\user\\appdata\\local\\programs\\python\\python313\\lib\\site-packages (from pydantic<3.0.0,>=2.7.4->langsmith) (4.12.2)\n",
      "Requirement already satisfied: charset-normalizer<4,>=2 in c:\\users\\user\\appdata\\local\\programs\\python\\python313\\lib\\site-packages (from requests<3,>=2->langsmith) (3.4.0)\n",
      "Requirement already satisfied: urllib3<3,>=1.21.1 in c:\\users\\user\\appdata\\local\\programs\\python\\python313\\lib\\site-packages (from requests<3,>=2->langsmith) (2.2.3)\n",
      "Requirement already satisfied: sniffio>=1.1 in c:\\users\\user\\appdata\\local\\programs\\python\\python313\\lib\\site-packages (from anyio->httpx<1,>=0.23.0->langsmith) (1.3.1)\n",
      "Using cached langsmith-0.2.1-py3-none-any.whl (316 kB)\n",
      "Installing collected packages: langsmith\n",
      "  Attempting uninstall: langsmith\n",
      "    Found existing installation: langsmith 0.1.147\n",
      "    Uninstalling langsmith-0.1.147:\n",
      "      Successfully uninstalled langsmith-0.1.147\n",
      "Successfully installed langsmith-0.2.1\n",
      "Note: you may need to restart the kernel to use updated packages.\n"
     ]
    },
    {
     "name": "stderr",
     "output_type": "stream",
     "text": [
      "ERROR: pip's dependency resolver does not currently take into account all the packages that are installed. This behaviour is the source of the following dependency conflicts.\n",
      "langchain-core 0.3.22 requires langsmith<0.2.0,>=0.1.125, but you have langsmith 0.2.1 which is incompatible.\n",
      "\n",
      "[notice] A new release of pip is available: 24.2 -> 24.3.1\n",
      "[notice] To update, run: python.exe -m pip install --upgrade pip\n"
     ]
    },
    {
     "name": "stdout",
     "output_type": "stream",
     "text": [
      "Note: you may need to restart the kernel to use updated packages.\n"
     ]
    },
    {
     "name": "stderr",
     "output_type": "stream",
     "text": [
      "\n",
      "[notice] A new release of pip is available: 24.2 -> 24.3.1\n",
      "[notice] To update, run: python.exe -m pip install --upgrade pip\n"
     ]
    }
   ],
   "source": [
    "%pip install -U langsmith\n",
    "%pip install --upgrade --quiet  langchain-gigachat"
   ]
  },
  {
   "cell_type": "code",
   "execution_count": null,
   "metadata": {},
   "outputs": [],
   "source": [
    "import os\n",
    "from getpass import getpass\n",
    "\n",
    "if \"GIGACHAT_CREDENTIALS\" not in os.environ:\n",
    "    os.environ[\"GIGACHAT_CREDENTIALS\"] = 'MTdjYzE3ZDdjOjk3YzZkNjYxLWQ5YTItNGM1MS05ODA4LWFiMTI4ZjNkMjQzZQ=='"
   ]
  },
  {
   "cell_type": "code",
   "execution_count": 3,
   "metadata": {},
   "outputs": [],
   "source": [
    "from langchain_gigachat import GigaChat\n",
    "\n",
    "chat = GigaChat(verify_ssl_certs=False, scope=\"GIGACHAT_API_PERS\")"
   ]
  },
  {
   "cell_type": "code",
   "execution_count": 4,
   "metadata": {},
   "outputs": [
    {
     "name": "stdout",
     "output_type": "stream",
     "text": [
      "The capital of Russia is Moscow.\n",
      "None\n"
     ]
    }
   ],
   "source": [
    "from langchain_core.messages import HumanMessage, SystemMessage\n",
    "from langsmith.wrappers import wrap_openai\n",
    "from langsmith import traceable\n",
    "\n",
    "@traceable\n",
    "def start_dialog (input):\n",
    "    messages = [\n",
    "        SystemMessage(\n",
    "            content= input\n",
    "        ),\n",
    "        HumanMessage(content=\"What is capital of Russia?\"),\n",
    "    ]\n",
    "\n",
    "    print(chat.invoke(messages).content)\n",
    "\n",
    "print(start_dialog ('кошка - '))"
   ]
  },
  {
   "cell_type": "code",
   "execution_count": 5,
   "metadata": {},
   "outputs": [],
   "source": [
    "os.environ[\"LANGCHAIN_TRACING_V2\"] = 'true'\n",
    "os.environ[\"LANGCHAIN_ENDPOINT\"]=\"https://api.smith.langchain.com\"\n",
    "os.environ[\"LANGCHAIN_API_KEY\"]=\"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\""
   ]
  },
  {
   "cell_type": "code",
   "execution_count": 6,
   "metadata": {},
   "outputs": [
    {
     "name": "stdout",
     "output_type": "stream",
     "text": [
      "View the evaluation results for experiment: 'my first dataset experiment -12a69e06' at:\n",
      "https://smith.langchain.com/o/01cd58a7-eef9-4d4d-8f46-d914573d2088/datasets/41d92e3b-672a-4fe7-8143-033922aec874/compare?selectedSessions=e72eeb7a-4a23-4ee3-8f9d-9367b87e627d\n",
      "\n",
      "\n"
     ]
    },
    {
     "data": {
      "text/html": [
       "<ExperimentResults my first dataset experiment -12a69e06>"
      ],
      "text/plain": [
       "<ExperimentResults my first dataset experiment -12a69e06>"
      ]
     },
     "execution_count": 6,
     "metadata": {},
     "output_type": "execute_result"
    }
   ],
   "source": [
    "from langsmith import evaluate, Client\n",
    "from langsmith.schemas import Example, Run\n",
    "\n",
    "# 1. Create and/or select your dataset\n",
    "client = Client()\n",
    "dataset_name = \"my animals\"\n",
    "dataset = client.clone_public_dataset(\"https://smith.langchain.com/public/a63525f9-bdf2-4512-83e3-077dc9417f96/d\", dataset_name=dataset_name)\n",
    "\n",
    "# 2. Define an evaluator\n",
    "def is_concise_enough(root_run: Run, example: Example) -> dict:\n",
    "    score = len(root_run.outputs[\"output\"]) < 3 * len(example.outputs[\"answer\"])\n",
    "    return {\"key\": \"is_concise\", \"score\": int(score)}\n",
    "\n",
    "# 3. Run an evaluation\n",
    "# For more info on evaluators, see: https://docs.smith.langchain.com/concepts/evaluation#evaluators\n",
    "\n",
    "# To evaluate an LCEL chain, replace lambda with chain.invoke\n",
    "# To evaluate a LangGraph graph, replace lambda with graph.invoke\n",
    "evaluate(\n",
    "    lambda x: x[\"question\"] + \"is a good question. I don't know the answer.\",\n",
    "    # chain.invoke\n",
    "    # graph.invoke\n",
    "    data=dataset_name,\n",
    "    evaluators=[is_concise_enough],\n",
    "    experiment_prefix=\"my first dataset experiment \"\n",
    ")"
   ]
  },
  {
   "cell_type": "code",
   "execution_count": 7,
   "metadata": {},
   "outputs": [
    {
     "name": "stdout",
     "output_type": "stream",
     "text": [
      "View the evaluation results for experiment: 'json is-62e12238' at:\n",
      "https://smith.langchain.com/o/01cd58a7-eef9-4d4d-8f46-d914573d2088/datasets/f6e7ef8b-e8d4-482d-95cc-ac3583ed622f/compare?selectedSessions=c0881bb9-9349-454d-ad11-3d0246473074\n",
      "\n",
      "\n"
     ]
    },
    {
     "data": {
      "text/html": [
       "<ExperimentResults json is-62e12238>"
      ],
      "text/plain": [
       "<ExperimentResults json is-62e12238>"
      ]
     },
     "execution_count": 7,
     "metadata": {},
     "output_type": "execute_result"
    }
   ],
   "source": [
    "from langsmith import evaluate, Client\n",
    "from langsmith.schemas import Example, Run\n",
    "import json\n",
    "\n",
    "# 1. Create and/or select your dataset\n",
    "client = Client()\n",
    "dataset_name = \"my first dataset\"\n",
    "#dataset = client.clone_public_dataset(\"https://smith.langchain.com/public/a63525f9-bdf2-4512-83e3-077dc9417f96/d\", dataset_name=dataset_name)\n",
    "\n",
    "# 2. Define an evaluator\n",
    "def is_json(root_run: Run, example: Example) -> dict:\n",
    "    try:\n",
    "        json.loads(root_run.outputs[\"output\"])\n",
    "        return True\n",
    "    except:\n",
    "        return False\n",
    "    \n",
    "def simp_chat(x):\n",
    "    messages = [\n",
    "        SystemMessage(\n",
    "            content= 'Write json ans'\n",
    "        ),\n",
    "        HumanMessage(content=x[\"question\"]),\n",
    "    ]\n",
    "    return chat.invoke(messages).content\n",
    "# 3. Run an evaluation\n",
    "# For more info on evaluators, see: https://docs.smith.langchain.com/concepts/evaluation#evaluators\n",
    "\n",
    "# To evaluate an LCEL chain, replace lambda with chain.invoke\n",
    "# To evaluate a LangGraph graph, replace lambda with graph.invoke\n",
    "evaluate(\n",
    "    simp_chat,\n",
    "    # graph.invoke\n",
    "    data=dataset_name,\n",
    "    evaluators=[is_json],\n",
    "    experiment_prefix=\"json is\"\n",
    ")"
   ]
  }
 ],
 "metadata": {
  "kernelspec": {
   "display_name": "Python 3",
   "language": "python",
   "name": "python3"
  },
  "language_info": {
   "codemirror_mode": {
    "name": "ipython",
    "version": 3
   },
   "file_extension": ".py",
   "mimetype": "text/x-python",
   "name": "python",
   "nbconvert_exporter": "python",
   "pygments_lexer": "ipython3",
   "version": "3.13.0"
  }
 },
 "nbformat": 4,
 "nbformat_minor": 2
}
