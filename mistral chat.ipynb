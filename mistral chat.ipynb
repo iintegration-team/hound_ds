{
 "cells": [
  {
   "cell_type": "code",
   "execution_count": null,
   "metadata": {},
   "outputs": [],
   "source": [
    "import os\n",
    "os.environ[\"MISTRAL_API_KEY\"] = ''"
   ]
  },
  {
   "cell_type": "code",
   "execution_count": 25,
   "metadata": {},
   "outputs": [
    {
     "name": "stdout",
     "output_type": "stream",
     "text": [
      "Москва — это столица и крупнейший город России. Она является административным, экономическим, культурным и научным центром страны. Москва расположена на реке Москве и является одним из самых густонаселенных городов мира с населением более 12 миллионов человек. В городе расположены многочисленные исторические и культурные памятники, такие как Кремль, Красная площадь, Большой театр, а также современные деловые и жилые районы. Москва также играет важную роль в международной политике и является местом проведения многих международных конференций и мероприятий.\n"
     ]
    }
   ],
   "source": [
    "import os\n",
    "from mistralai import Mistral\n",
    "\n",
    "api_key = os.environ[\"MISTRAL_API_KEY\"]\n",
    "model = \"mistral-large-latest\"\n",
    "\n",
    "client = Mistral(api_key=api_key)\n",
    "\n",
    "chat_response = client.chat.complete(\n",
    "    model= model,\n",
    "    messages = [\n",
    "        {\n",
    "            \"role\": \"user\",\n",
    "            \"content\": \"Москва это\",\n",
    "        },\n",
    "    ]\n",
    ")\n",
    "print(chat_response.choices[0].message.content)\n"
   ]
  },
  {
   "cell_type": "code",
   "execution_count": null,
   "metadata": {},
   "outputs": [],
   "source": [
    "import os\n",
    "from typing import List\n",
    "import uuid\n",
    "import json\n",
    "\n",
    "class MistralModel:\n",
    "    def __init__(self, auth_data):\n",
    "        self.auth_data = auth_data\n",
    "        self.auth_token = self._get_auth_token()\n",
    "\n",
    "    def _get_auth_token(self):\n",
    "        #no time api key - I can delete from ui and create from ui\n",
    "        return  self.auth_data\n",
    "\n",
    "\n",
    "    def invoke(self, messages:List[dict[str,str]], model=\"mistral-large-latest\", raw=True, system_prompt=None):\n",
    "        if system_prompt:\n",
    "            messages = [{\"role\": \"system\", \"content\": system_prompt}] + messages\n",
    "        \n",
    "        client = Mistral(api_key=self._get_auth_token())\n",
    "\n",
    "        chat_response = client.chat.complete(\n",
    "            model= model,\n",
    "            messages = messages\n",
    "        )\n",
    "        try:\n",
    "            print(messages)\n",
    "            chat_response = client.chat.complete(\n",
    "            model= model,\n",
    "            messages = messages)\n",
    "            \n",
    "            if raw:\n",
    "                return chat_response\n",
    "            else:\n",
    "                msg = chat_response.choices[0].message\n",
    "                return msg\n",
    "            \n",
    "        except Exception as e:\n",
    "            # Обработка исключений при запросе\n",
    "            return f\"Request failed: {str(e)}\"\n"
   ]
  },
  {
   "cell_type": "code",
   "execution_count": 21,
   "metadata": {},
   "outputs": [
    {
     "name": "stdout",
     "output_type": "stream",
     "text": [
      "Для того чтобы спастись от дрона, можно следовать следующим рекомендациям:\n",
      "\n",
      "1. **Использовать преграды**: Укройтесь за преградами, такими как деревья, здания или другие крупные объекты, которые могут затруднить видимость дрона.\n",
      "\n",
      "2. **Перемещаться**: Если дрон преследует вас, постарайтесь перемещаться непредсказуемо, чтобы затруднить его слежение.\n",
      "\n",
      "3. **Использовать средства защиты**: В некоторых случаях можно использовать специальные средства, такие как дрон-глушители или сети для ловли дронов.\n",
      "\n",
      "4. **Связаться с властями**: Если дрон представляет угрозу, немедленно свяжитесь с местными властями или полицией.\n",
      "\n",
      "5. **Сохранять спокойствие**: Паника может только ухудшить ситуацию. Постарайтесь сохранять спокойствие и действовать обдуманно.\n",
      "\n",
      "Эти меры могут помочь вам спастись от дрона в различных ситуациях.\n",
      "[{'role': 'system', 'content': '\\nYou are a Q&A assistant. Your goal is to answer questions as\\naccurately as possible based on the instructions and context provided.\\n'}, {'content': '\\nОтветь на вопрос пользователя, основываясь на полученном контексте.\\n\\nВопрос пользователя:\\nКак спасттись от дрона\\n\\nКонтекст:\\nТекст, который мы спарсили с посещенных сайтов (желательно не слишком большой для экономии токенов)\\n', 'role': 'user'}]\n",
      "content='Для того чтобы спастись от дрона, можно следовать нескольким рекомендациям:\\n\\n1. **Укройтесь**: Найдите укрытие в здании или под навесом, чтобы дрон не мог вас обнаружить.\\n2. **Используйте препятствия**: Прячьтесь за деревьями, стенами или другими препятствиями, которые могут затруднить обзор дрону.\\n3. **Отключите электронные устройства**: Если дрон использует сигналы ваших устройств для отслеживания, отключите их.\\n4. **Используйте одежду с камуфляжем**: Одежда, которая сливается с окружающей средой, может помочь вам остаться незамеченным.\\n5. **Перемещайтесь быстро и непредсказуемо**: Если вам нужно перемещаться, делайте это быстро и меняйте направление, чтобы затруднить дрону следование за вами.\\n\\nЭти меры могут помочь вам избежать обнаружения дроном.' tool_calls=None prefix=False role='assistant'\n"
     ]
    }
   ],
   "source": [
    "\n",
    "model = MistralModel('PHC1b5nRuAsMWQzMiwxH5n0gSpF6DQNa')\n",
    "\n",
    "# Подготовка сообщения\n",
    "user_qustion = 'Как спасттись от дрона'\n",
    "parsed_text = 'Текст, который мы спарсили с посещенных сайтов (желательно не слишком большой для экономии токенов)'\n",
    "\n",
    "text = f\"\"\"\n",
    "Ответь на вопрос пользователя, основываясь на полученном контексте.\n",
    "\n",
    "Вопрос пользователя:\n",
    "{user_qustion}\n",
    "\n",
    "Контекст:\n",
    "{parsed_text}\n",
    "\"\"\"\n",
    "user_msg = {\n",
    "    'content': text,\n",
    "    'role': 'user',\n",
    "}\n",
    "\n",
    "# Системный промпт\n",
    "system_prompt = \"\"\"\n",
    "You are a Q&A assistant. Your goal is to answer questions as\n",
    "accurately as possible based on the instructions and context provided.\n",
    "\"\"\"\n",
    "\n",
    "# Отправка запроса и вывод ответа\n",
    "model_response = model.invoke(messages=[user_msg], system_prompt=system_prompt,raw=False)\n",
    "print(model_response)"
   ]
  },
  {
   "cell_type": "code",
   "execution_count": null,
   "metadata": {},
   "outputs": [],
   "source": [
    "relevant_sorces = \"\"\"\n",
    "{\n",
    "    source_id: {\n",
    "        \"link\" : \n",
    "        \"text\" : \n",
    "    },\n",
    "    ... \n",
    "\n",
    "}\n",
    "\n",
    "\"\"\"\n",
    "\n",
    "user_question = \"Какие последние достижения в области ИИ были представлены и какой объем инвестиций в эту сферу?\"\n",
    "\n",
    "system_prompt = \"\"\"You are a helpful AI assistant focused on answering questions based on provided context.\n",
    "Your core responsibilities:\n",
    "\n",
    "- Use only information from the given context.\n",
    "- When you reference information from a source, cite it by adding the source number in square brackets at the end of the sentence (e.g., [1]).\n",
    "- Use the source numbers as provided in the Sources section.\n",
    "- Acknowledge limitations when context is insufficient.\n",
    "- Highlight any contradictions in sources.\n",
    "- Respond in the same language as the question is asked.\n",
    "\n",
    "Format your responses as:\n",
    "{\n",
    "    \"Answer\": [detailed response with sources citations in square brackets]\n",
    "    \"Sources\": {\n",
    "        source_id: [source link],\n",
    "        ...\n",
    "    }\n",
    "}\"\"\"\n",
    "\n",
    "user_prompt = f\"\"\"Here is the relevant context:\n",
    "\n",
    "{relevant_sorces}\n",
    "\n",
    "Question: {user_question}\n",
    "\n",
    "Please provide a complete answer following the required format.\"\"\"\n",
    "\n",
    "user_msg = {\n",
    "    'content': user_prompt,\n",
    "    'role': 'user',\n",
    "}"
   ]
  }
 ],
 "metadata": {
  "colab": {
   "provenance": []
  },
  "kernelspec": {
   "display_name": "Python 3",
   "language": "python",
   "name": "python3"
  },
  "language_info": {
   "codemirror_mode": {
    "name": "ipython",
    "version": 3
   },
   "file_extension": ".py",
   "mimetype": "text/x-python",
   "name": "python",
   "nbconvert_exporter": "python",
   "pygments_lexer": "ipython3",
   "version": "3.12.7"
  }
 },
 "nbformat": 4,
 "nbformat_minor": 0
}
